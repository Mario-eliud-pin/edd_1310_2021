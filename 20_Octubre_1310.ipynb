{
  "nbformat": 4,
  "nbformat_minor": 0,
  "metadata": {
    "colab": {
      "name": "20_Octubre_1310.ipynb",
      "provenance": [],
      "authorship_tag": "ABX9TyNR9Nv7vkcD+RPXorjQdiWf",
      "include_colab_link": true
    },
    "kernelspec": {
      "name": "python3",
      "display_name": "Python 3"
    }
  },
  "cells": [
    {
      "cell_type": "markdown",
      "metadata": {
        "id": "view-in-github",
        "colab_type": "text"
      },
      "source": [
        "<a href=\"https://colab.research.google.com/github/Mario-eliud-pin/edd_1310_2021/blob/master/20_Octubre_1310.ipynb\" target=\"_parent\"><img src=\"https://colab.research.google.com/assets/colab-badge.svg\" alt=\"Open In Colab\"/></a>"
      ]
    },
    {
      "cell_type": "code",
      "metadata": {
        "id": "8GyzpwozwHH0"
      },
      "source": [
        "archivo=open(\"numeros.txt\",\"rt\")\n",
        "for linea in archivo.readlines():\n",
        "  for tronc in linea.split(\",\"):\n",
        "    print(int (tronc.strip()))"
      ],
      "execution_count": null,
      "outputs": []
    },
    {
      "cell_type": "markdown",
      "metadata": {
        "id": "evhWwEl42_d9"
      },
      "source": [
        "sintaxis de for en python \n",
        "\n",
        "#range\n",
        "# in iterador\n"
      ]
    },
    {
      "cell_type": "code",
      "metadata": {
        "id": "OXDG_4vj3NcB",
        "outputId": "ef0d1f46-8995-4ea9-fa4e-93d26bebbdf1",
        "colab": {
          "base_uri": "https://localhost:8080/",
          "height": 238
        }
      },
      "source": [
        "r =range(0,10,2)\n",
        "for x in r:\n",
        "  print(x)\n",
        "# de esta manera puedo modificar la parte interna de la salida, puedo concatenar o aplicar metodos string para modificar la letra\n",
        "colores=[\"rojo\", \"rosa\", \"azul\", \"fucsia\"]\n",
        "for i in range(0,4,1):\n",
        "  print(colores[i])\n",
        "\n",
        "#con un iterador\n",
        "for col in colores:\n",
        "  print(col)\n",
        "  "
      ],
      "execution_count": 8,
      "outputs": [
        {
          "output_type": "stream",
          "text": [
            "0\n",
            "2\n",
            "4\n",
            "6\n",
            "8\n",
            "rojo\n",
            "rosa\n",
            "azul\n",
            "fucsia\n",
            "rojo\n",
            "rosa\n",
            "azul\n",
            "fucsia\n"
          ],
          "name": "stdout"
        }
      ]
    },
    {
      "cell_type": "code",
      "metadata": {
        "id": "PFGHdeU98G_2",
        "outputId": "fbe82ea7-df65-49be-bdbd-5229a7f45b2e",
        "colab": {
          "base_uri": "https://localhost:8080/",
          "height": 68
        }
      },
      "source": [
        "#generador\n",
        "#[valor for x in range(10)]\n",
        "#lista_1=[ for i in range(10)]\n",
        "#print(lista_1)\n",
        "\n",
        "for j in range(0,3,1):\n",
        "  lista_2=[0 for m in range(3)]\n",
        "  print(lista_2)"
      ],
      "execution_count": 14,
      "outputs": [
        {
          "output_type": "stream",
          "text": [
            "[0, 0, 0]\n",
            "[0, 0, 0]\n",
            "[0, 0, 0]\n"
          ],
          "name": "stdout"
        }
      ]
    },
    {
      "cell_type": "markdown",
      "metadata": {
        "id": "Lsu9Ax52_Ja0"
      },
      "source": [
        "**POO en python**\n",
        "\n",
        "#-clase\n",
        "#-creacion de ejemplos\n",
        "#-constructor\n",
        "#-encapsulamiento\n",
        "#-metodos\n",
        "#-atributos \n",
        "#-herencia"
      ]
    },
    {
      "cell_type": "code",
      "metadata": {
        "id": "ExjWqjs9_hRV",
        "outputId": "5a8e4b67-6fbc-40a3-fba4-b2389877edd7",
        "colab": {
          "base_uri": "https://localhost:8080/",
          "height": 34
        }
      },
      "source": [
        "class computadora:\n",
        "  def __init__( self,m,p ):\n",
        "    self.__marca=m #con los dos guiones bajos es como interpreta que es priado\n",
        "    self.__procesador=p\n",
        "\n",
        "  def to_string( self ):\n",
        "    return \"Marca:\"+self.__marca+\"   prosesador: \"+self.__procesador\n",
        "\n",
        "mi_pc=computadora(\"toshiba\",\"intel7\")\n",
        "print(mi_pc.to_string())\n",
        "#mi computadora es un objeto tipo computadora\n",
        "#estado actual del ojeto\n"
      ],
      "execution_count": 27,
      "outputs": [
        {
          "output_type": "stream",
          "text": [
            "Marca:toshiba   prosesador: intel7\n"
          ],
          "name": "stdout"
        }
      ]
    },
    {
      "cell_type": "code",
      "metadata": {
        "id": "CSXaOtD_ERV8",
        "outputId": "bd5264f6-7c67-4aab-e217-902859f64915",
        "colab": {
          "base_uri": "https://localhost:8080/",
          "height": 34
        }
      },
      "source": [
        "class Computadora:\n",
        "   def __init__( self, m, p):\n",
        "       self.__marca=m\n",
        "       self.__procesador=p\n",
        "\n",
        "   def to_string( self ):\n",
        "       return \"Marca:\"+self.__marca+\" Procesador:\"+self.__procesador\n",
        "\n",
        "mi_pc = Computadora(\"Toshiba\", \"Intel i7\")\n",
        "mi_pc.__marca=\"HP\"\n",
        "\n",
        "print(mi_pc.to_string())"
      ],
      "execution_count": 21,
      "outputs": [
        {
          "output_type": "stream",
          "text": [
            "Marca:Toshiba Procesador:Intel i7\n"
          ],
          "name": "stdout"
        }
      ]
    }
  ]
}