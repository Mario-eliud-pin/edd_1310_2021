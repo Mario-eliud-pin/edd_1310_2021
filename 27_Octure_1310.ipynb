{
  "nbformat": 4,
  "nbformat_minor": 0,
  "metadata": {
    "colab": {
      "name": "27_Octure_1310.ipynb",
      "provenance": [],
      "authorship_tag": "ABX9TyNkyK8Vgn+7MZN4VVIwl+FN",
      "include_colab_link": true
    },
    "kernelspec": {
      "name": "python3",
      "display_name": "Python 3"
    }
  },
  "cells": [
    {
      "cell_type": "markdown",
      "metadata": {
        "id": "view-in-github",
        "colab_type": "text"
      },
      "source": [
        "<a href=\"https://colab.research.google.com/github/Mario-eliud-pin/edd_1310_2021/blob/master/27_Octure_1310.ipynb\" target=\"_parent\"><img src=\"https://colab.research.google.com/assets/colab-badge.svg\" alt=\"Open In Colab\"/></a>"
      ]
    },
    {
      "cell_type": "code",
      "metadata": {
        "id": "anOS_q6xBvf6",
        "outputId": "b2a0961c-596f-408c-d100-93f74741b50d",
        "colab": {
          "base_uri": "https://localhost:8080/",
          "height": 51
        }
      },
      "source": [
        "class Computadora:\n",
        "    def __init__( self , m , p):\n",
        "        self.__marca = m #atributo privado por los __ esto significa que no podemos modificarlo fuera de la misma clase\n",
        "        self.__procesador = p\n",
        "\n",
        "    def to_string( self ):\n",
        "        return \"MArca:\"+self.__marca+\" Procesador:\"+self.__procesador\n",
        "    def set_marca(self, m):\n",
        "      self.__marca=m\n",
        "    def get_marca(self, m):\n",
        "      return self.__marca\n",
        "    def set_procesador(self,p):\n",
        "      self.__procesador=p\n",
        "    def get_procesador(self,p):\n",
        "      return self.__procesador\n",
        "\n",
        "\n",
        "mi_pc = Computadora(\"Toshiba\",\"Intel i7\")\n",
        "mi_pc.__marca=\"HP \"# en esta parte tratariamos de cambiar el valor, pero no se puede por que es privado\n",
        "mi_pc.set_marca(\"hp\")\n",
        "print(mi_pc.to_string()) \n",
        "print(mi_pc.to_string())"
      ],
      "execution_count": 4,
      "outputs": [
        {
          "output_type": "stream",
          "text": [
            "MArca:hp Procesador:Intel i7\n",
            "MArca:hp Procesador:Intel i7\n"
          ],
          "name": "stdout"
        }
      ]
    },
    {
      "cell_type": "markdown",
      "metadata": {
        "id": "uKLPV4JCEI3D"
      },
      "source": [
        "encapsulamiento en python3\n",
        "\n",
        "tradicional tipo java \n",
        "# void set_Atributo (val)\n",
        "#tipo get_atributo()\n",
        "en el formato pyhon 3\n",
        "utiliando decoradores\n",
        "#\n"
      ]
    },
    {
      "cell_type": "code",
      "metadata": {
        "id": "Zoy_zuc7EL7o",
        "outputId": "f8d38cc6-1652-4e94-aec2-00ea288f8a06",
        "colab": {
          "base_uri": "https://localhost:8080/",
          "height": 68
        }
      },
      "source": [
        "#estilo python 3\n",
        "\n",
        "class computadora:\n",
        "  def __init__(self, m, p):\n",
        "    self.marca_1=m #se manda  allamar el decorador @property\n",
        "    self.procesador=p#idem\n",
        "    #en esta parte de abajo es donde se van a adecarar\n",
        "  @property #se declara como u atributo privado y funciona como el metodo get\n",
        "  def marca(self):\n",
        "    return self.__marca_1\n",
        "  @marca.setter\n",
        "  def __marca(self,m):\n",
        "    self.__marca_1=m\n",
        "  @property\n",
        "  def procesador(self):\n",
        "    return self.__procesador\n",
        "  @procesador.setter\n",
        "  def procesador(self,p):\n",
        "    print(\"en el metodo set de procesador\")\n",
        "    self.__procesador=p\n",
        "\n",
        "\n",
        "  def to_string(self):\n",
        "    return \"marca:  \"+   self.marca_1+\"   procesador:  \"+ self.procesador\n",
        "mi_pc2=computadora(\"mc boock\",\"intel i 7\")\n",
        "print(mi_pc2.to_string())\n",
        "mi_pc2.marca_1=\"toshiba\"\n",
        "print(mi_pc2.to_string())\n"
      ],
      "execution_count": 24,
      "outputs": [
        {
          "output_type": "stream",
          "text": [
            "en el metodo set de procesador\n",
            "marca:  mc boock   procesador:  intel i 7\n",
            "marca:  toshiba   procesador:  intel i 7\n"
          ],
          "name": "stdout"
        }
      ]
    },
    {
      "cell_type": "markdown",
      "metadata": {
        "id": "xKC9bRWjQiZR"
      },
      "source": [
        "Herencia"
      ]
    },
    {
      "cell_type": "code",
      "metadata": {
        "id": "vrWxbZEPQjq8",
        "outputId": "1eea0cad-1c5c-4ef6-cf03-785b33f80412",
        "colab": {
          "base_uri": "https://localhost:8080/",
          "height": 68
        }
      },
      "source": [
        "class servido_empresarial(computadora):\n",
        "  def __init__(self):\n",
        "    print(\"hoa servidor\")\n",
        "server=servido_empresarial()\n",
        "server.marca_1=\"sun micro system\"\n",
        "server.procesador=\"intel i 7\"\n",
        "print(server.to_string())\n",
        "\n",
        "\n"
      ],
      "execution_count": 29,
      "outputs": [
        {
          "output_type": "stream",
          "text": [
            "hoa servidor\n",
            "en el metodo set de procesador\n",
            "marca:  sun micro system   procesador:  intel i 7\n"
          ],
          "name": "stdout"
        }
      ]
    }
  ]
}