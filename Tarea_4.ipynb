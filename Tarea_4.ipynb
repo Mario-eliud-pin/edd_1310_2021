{
  "nbformat": 4,
  "nbformat_minor": 0,
  "metadata": {
    "colab": {
      "name": "Tarea #4.ipynb",
      "provenance": [],
      "collapsed_sections": [],
      "include_colab_link": true
    },
    "kernelspec": {
      "name": "python3",
      "display_name": "Python 3"
    }
  },
  "cells": [
    {
      "cell_type": "markdown",
      "metadata": {
        "id": "view-in-github",
        "colab_type": "text"
      },
      "source": [
        "<a href=\"https://colab.research.google.com/github/Mario-eliud-pin/edd_1310_2021/blob/master/Tarea_4.ipynb\" target=\"_parent\"><img src=\"https://colab.research.google.com/assets/colab-badge.svg\" alt=\"Open In Colab\"/></a>"
      ]
    },
    {
      "cell_type": "code",
      "metadata": {
        "id": "kOueQHSrs28f",
        "outputId": "35c9806c-2e01-4fb9-b041-5e055db008f9",
        "colab": {
          "base_uri": "https://localhost:8080/"
        }
      },
      "source": [
        "import pandas as f\n",
        "from datetime import datetime\n",
        "\n",
        "class archivo:\n",
        "    def __init__ (self, nombre):\n",
        "        try:\n",
        "            self.__info = np.read_csv(nombre, sep=',')\n",
        "            print(self.__info)\n",
        "        except Exception as e:\n",
        "            print()\n",
        "\n",
        "    def calcular_Sueldo(self, c_n, c_s, c_a, c_h, h_e):\n",
        "        now = datetime.now()\n",
        "        for j in range(len(self.__info)):\n",
        "            p = (now.year-self.__info[' '+c_a][j]) *.03\n",
        "            s = self.__info[' '+c_s][j] + (h_e * self.__info[' '+c_h][j]) + (self.__info[' '+c_s][j]*p)\n",
        "            print(self.__info[' '+c_n][j]+\": Sueldo base: \" + str(self.__info[' '+c_s][j]) +\", Año de ingreso: \" + str(self.__info[' '+c_a][j])\n",
        "             + \", Horas extra: \" + str(self.__info[' '+c_h][j]) + \", Prestacion: \" + str(p))\n",
        "            print(\"Sueldo final: \" + str(s))\n",
        "\n",
        "    def empleado_n(self, co_a, co_n, co):\n",
        "        m = max(self.__info[' '+co_a])\n",
        "        for j in range(len(self.__info)):\n",
        "            if self.__info[' '+co_a][j] == m:\n",
        "                print(\"Empleado más nuevo \" + self.__info[' '+co_n][j] +' '+ self.__info[' '+co][j])\n",
        "\n",
        "    def empleado_a(self, co_a, co_n, co):\n",
        "        my = min(self.__info[' '+co_a])\n",
        "        for j in range(len(self.__info)):\n",
        "            if self.__info[' '+co_a][j] == my:\n",
        "                print(\"Empledo con más tiempo \" + self.__info[' '+co_n][j] +' '+ self.__info[' '+co][j])\n",
        "\n",
        "\n",
        "trabajadores= archivo('junio.dat')\n",
        "trabajadores.calcular_Sueldo('Nombres', 'Sueldo base', 'Año de ingreso', 'Horas extra', 276.5)\n",
        "trabajadores.empleado_a('Año de ingreso', 'Nombres', 'Paterno')\n",
        "trabajadores.empleado_n('Año de ingreso', 'Nombres', 'Paterno')"
      ],
      "execution_count": null,
      "outputs": [
        {
          "output_type": "stream",
          "text": [
            "    Numero de Trabajador    Nombres  ...  Sueldo base  Año de ingreso\n",
            "0                   2345     CARLOS  ...         9850            2017\n",
            "1                   5754      ANGEL  ...         9850            2020\n",
            "2                   5345      JESUS  ...         9850            2016\n",
            "3                   3267      DAVID  ...         9850            2017\n",
            "4                   8765      PEDRO  ...         9850            2017\n",
            "5                   5454     DANIEL  ...         9850            2018\n",
            "6                   3456  ALEJANDRO  ...         9850            2018\n",
            "7                   3445      MARIA  ...         9850            2018\n",
            "8                   9088    ALBERTO  ...         9850            2017\n",
            "9                   8877     RAFAEL  ...         9850            2017\n",
            "10                  6767   FERNANDO  ...         9850            2019\n",
            "11                  5654      PABLO  ...         9850            2019\n",
            "12                  4323      JORGE  ...         9850            2020\n",
            "13                  2232      RAMON  ...         9850            2016\n",
            "\n",
            "[14 rows x 7 columns]\n",
            "CARLOS: Sueldo base: 9850, Año de ingreso: 2017, Horas extra: 0, Prestacion: 0.09\n",
            "Sueldo final: 10736.5\n",
            "ANGEL: Sueldo base: 9850, Año de ingreso: 2020, Horas extra: 1, Prestacion: 0.0\n",
            "Sueldo final: 10126.5\n",
            "JESUS: Sueldo base: 9850, Año de ingreso: 2016, Horas extra: 2, Prestacion: 0.12\n",
            "Sueldo final: 11585.0\n",
            "DAVID: Sueldo base: 9850, Año de ingreso: 2017, Horas extra: 2, Prestacion: 0.09\n",
            "Sueldo final: 11289.5\n",
            "PEDRO: Sueldo base: 9850, Año de ingreso: 2017, Horas extra: 2, Prestacion: 0.09\n",
            "Sueldo final: 11289.5\n",
            "DANIEL: Sueldo base: 9850, Año de ingreso: 2018, Horas extra: 3, Prestacion: 0.06\n",
            "Sueldo final: 11270.5\n",
            "ALEJANDRO: Sueldo base: 9850, Año de ingreso: 2018, Horas extra: 2, Prestacion: 0.06\n",
            "Sueldo final: 10994.0\n",
            "MARIA: Sueldo base: 9850, Año de ingreso: 2018, Horas extra: 1, Prestacion: 0.06\n",
            "Sueldo final: 10717.5\n",
            "ALBERTO: Sueldo base: 9850, Año de ingreso: 2017, Horas extra: 1, Prestacion: 0.09\n",
            "Sueldo final: 11013.0\n",
            "RAFAEL: Sueldo base: 9850, Año de ingreso: 2017, Horas extra: 2, Prestacion: 0.09\n",
            "Sueldo final: 11289.5\n",
            "FERNANDO: Sueldo base: 9850, Año de ingreso: 2019, Horas extra: 4, Prestacion: 0.03\n",
            "Sueldo final: 11251.5\n",
            "PABLO: Sueldo base: 9850, Año de ingreso: 2019, Horas extra: 1, Prestacion: 0.03\n",
            "Sueldo final: 10422.0\n",
            "JORGE: Sueldo base: 9850, Año de ingreso: 2020, Horas extra: 2, Prestacion: 0.0\n",
            "Sueldo final: 10403.0\n",
            "RAMON: Sueldo base: 9850, Año de ingreso: 2016, Horas extra: 1, Prestacion: 0.12\n",
            "Sueldo final: 11308.5\n",
            "Empledo con más tiempo JESUS MARTIN\n",
            "Empledo con más tiempo RAMON NAVARRO\n",
            "Empleado más nuevo ANGEL GOMEZ\n",
            "Empleado más nuevo JORGE GUTIERREZ\n"
          ],
          "name": "stdout"
        }
      ]
    }
  ]
}