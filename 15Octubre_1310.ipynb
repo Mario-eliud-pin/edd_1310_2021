{
  "nbformat": 4,
  "nbformat_minor": 0,
  "metadata": {
    "colab": {
      "name": "15Octubre_1310.ipynb",
      "provenance": [],
      "toc_visible": true,
      "authorship_tag": "ABX9TyPV5bY7lg2D91K4uHxtUAkS",
      "include_colab_link": true
    },
    "kernelspec": {
      "name": "python3",
      "display_name": "Python 3"
    }
  },
  "cells": [
    {
      "cell_type": "markdown",
      "metadata": {
        "id": "view-in-github",
        "colab_type": "text"
      },
      "source": [
        "<a href=\"https://colab.research.google.com/github/Mario-eliud-pin/edd_1310_2021/blob/master/15Octubre_1310.ipynb\" target=\"_parent\"><img src=\"https://colab.research.google.com/assets/colab-badge.svg\" alt=\"Open In Colab\"/></a>"
      ]
    },
    {
      "cell_type": "code",
      "metadata": {
        "id": "jcXCJlyqCL6V",
        "outputId": "f35f66c1-83de-4494-d9f0-48a8b45618a8",
        "colab": {
          "base_uri": "https://localhost:8080/",
          "height": 51
        }
      },
      "source": [
        "\"\"\"\n",
        "import mi_modulo\n",
        "\n",
        "x=mi_modulo.sumar(4,7)\n",
        "print(x)\n",
        "\n",
        "print(mi_modulo.multiplicar(5,5))\n",
        "\"\"\"\n"
      ],
      "execution_count": 3,
      "outputs": [
        {
          "output_type": "stream",
          "text": [
            "11\n",
            "25\n"
          ],
          "name": "stdout"
        }
      ]
    },
    {
      "cell_type": "code",
      "metadata": {
        "id": "G0XImyGMKZJN",
        "outputId": "7a2ae63e-2bdd-4658-d828-ad7082ebbd47",
        "colab": {
          "base_uri": "https://localhost:8080/",
          "height": 34
        }
      },
      "source": [
        "#asi puedo utilizar solo un bloque de mis lineas de codigo\n",
        "from mi_modulo import sumar\n",
        "print(sumar(4,7))"
      ],
      "execution_count": 4,
      "outputs": [
        {
          "output_type": "stream",
          "text": [
            "11\n"
          ],
          "name": "stdout"
        }
      ]
    },
    {
      "cell_type": "code",
      "metadata": {
        "id": "G9Uosml_LQQK",
        "outputId": "094c54df-fe8a-4af7-e932-00337abbd0e0",
        "colab": {
          "base_uri": "https://localhost:8080/",
          "height": 34
        }
      },
      "source": [
        "import mi_modulo as patito\n",
        "print(patito.sumar(5,8))\n",
        "\n"
      ],
      "execution_count": 5,
      "outputs": [
        {
          "output_type": "stream",
          "text": [
            "13\n"
          ],
          "name": "stdout"
        }
      ]
    },
    {
      "cell_type": "code",
      "metadata": {
        "id": "6qaoiBGIOFIp",
        "outputId": "0d22d7b4-2d42-4712-f847-c29b45dcee22",
        "colab": {
          "base_uri": "https://localhost:8080/",
          "height": 35
        }
      },
      "source": [
        "from joke_generator import generate\n",
        "generate()"
      ],
      "execution_count": 12,
      "outputs": [
        {
          "output_type": "execute_result",
          "data": {
            "application/vnd.google.colaboratory.intrinsic+json": {
              "type": "string"
            },
            "text/plain": [
              "'What do you get when you cross a rabbit with a water hose? Hare spray.'"
            ]
          },
          "metadata": {
            "tags": []
          },
          "execution_count": 12
        }
      ]
    },
    {
      "cell_type": "code",
      "metadata": {
        "id": "QcfyNNaJAlNT"
      },
      "source": [
        ""
      ],
      "execution_count": null,
      "outputs": []
    },
    {
      "cell_type": "markdown",
      "metadata": {
        "id": "hvuh4-PKB10Q"
      },
      "source": [
        "#modulos, son recursos reutilizables que pueden ser importadas a atu codigo\n",
        "\n",
        "puedo declarar un moduclo y reutilizarlo despus\n"
      ]
    },
    {
      "cell_type": "code",
      "metadata": {
        "id": "eYW9l5T_FM2j"
      },
      "source": [
        ""
      ],
      "execution_count": null,
      "outputs": []
    },
    {
      "cell_type": "markdown",
      "metadata": {
        "id": "HvriQz_mSP_X"
      },
      "source": [
        "archivos \n",
        "open (str, str)\n",
        "  1:Nombre o ruta de rchivo\n",
        "  2:Dos caracteres modo de apertura del archivo\n",
        "  archivo(r,w,a, x)\n",
        "  formato del archivo (texto o binario)"
      ]
    },
    {
      "cell_type": "code",
      "metadata": {
        "id": "W_VksWIlS2rs"
      },
      "source": [
        "archivo =open(\"saludo.txt\",\"wt\")\n",
        "archivo.write(\"hoala mundo\\n ola k ase\")\n",
        "archivo.close()"
      ],
      "execution_count": 14,
      "outputs": []
    },
    {
      "cell_type": "code",
      "metadata": {
        "id": "XgrPWmZvUeV-",
        "outputId": "427cbccf-47fd-4e11-a434-aad8db50da2e",
        "colab": {
          "base_uri": "https://localhost:8080/",
          "height": 173
        }
      },
      "source": [
        "otros=open('./sample_data/anscombe.json',\"rb\")\n",
        "datos=otros.read()\n",
        "print(datos)\n",
        "otros.close()\n",
        "\n",
        "arch=open (\"frutas.txt\",\"rt\")\n",
        "data=\"bbb\"\n",
        "while data!=\"\":\n",
        "  data=arch.readline()\n",
        "  print(data)\n",
        "arch.close()\n",
        "\n",
        "\n",
        "\n",
        "\n",
        "arch=open (\"frutas.txt\",\"rt\")\n",
        "lista_frutas=arch.readlines()\n",
        "print(lista_frutas)\n",
        "arch.close()"
      ],
      "execution_count": 27,
      "outputs": [
        {
          "output_type": "stream",
          "text": [
            "b'[\\n  {\"Series\":\"I\", \"X\":10.0, \"Y\":8.04},\\n  {\"Series\":\"I\", \"X\":8.0, \"Y\":6.95},\\n  {\"Series\":\"I\", \"X\":13.0, \"Y\":7.58},\\n  {\"Series\":\"I\", \"X\":9.0, \"Y\":8.81},\\n  {\"Series\":\"I\", \"X\":11.0, \"Y\":8.33},\\n  {\"Series\":\"I\", \"X\":14.0, \"Y\":9.96},\\n  {\"Series\":\"I\", \"X\":6.0, \"Y\":7.24},\\n  {\"Series\":\"I\", \"X\":4.0, \"Y\":4.26},\\n  {\"Series\":\"I\", \"X\":12.0, \"Y\":10.84},\\n  {\"Series\":\"I\", \"X\":7.0, \"Y\":4.81},\\n  {\"Series\":\"I\", \"X\":5.0, \"Y\":5.68},\\n\\n  {\"Series\":\"II\", \"X\":10.0, \"Y\":9.14},\\n  {\"Series\":\"II\", \"X\":8.0, \"Y\":8.14},\\n  {\"Series\":\"II\", \"X\":13.0, \"Y\":8.74},\\n  {\"Series\":\"II\", \"X\":9.0, \"Y\":8.77},\\n  {\"Series\":\"II\", \"X\":11.0, \"Y\":9.26},\\n  {\"Series\":\"II\", \"X\":14.0, \"Y\":8.10},\\n  {\"Series\":\"II\", \"X\":6.0, \"Y\":6.13},\\n  {\"Series\":\"II\", \"X\":4.0, \"Y\":3.10},\\n  {\"Series\":\"II\", \"X\":12.0, \"Y\":9.13},\\n  {\"Series\":\"II\", \"X\":7.0, \"Y\":7.26},\\n  {\"Series\":\"II\", \"X\":5.0, \"Y\":4.74},\\n\\n  {\"Series\":\"III\", \"X\":10.0, \"Y\":7.46},\\n  {\"Series\":\"III\", \"X\":8.0, \"Y\":6.77},\\n  {\"Series\":\"III\", \"X\":13.0, \"Y\":12.74},\\n  {\"Series\":\"III\", \"X\":9.0, \"Y\":7.11},\\n  {\"Series\":\"III\", \"X\":11.0, \"Y\":7.81},\\n  {\"Series\":\"III\", \"X\":14.0, \"Y\":8.84},\\n  {\"Series\":\"III\", \"X\":6.0, \"Y\":6.08},\\n  {\"Series\":\"III\", \"X\":4.0, \"Y\":5.39},\\n  {\"Series\":\"III\", \"X\":12.0, \"Y\":8.15},\\n  {\"Series\":\"III\", \"X\":7.0, \"Y\":6.42},\\n  {\"Series\":\"III\", \"X\":5.0, \"Y\":5.73},\\n\\n  {\"Series\":\"IV\", \"X\":8.0, \"Y\":6.58},\\n  {\"Series\":\"IV\", \"X\":8.0, \"Y\":5.76},\\n  {\"Series\":\"IV\", \"X\":8.0, \"Y\":7.71},\\n  {\"Series\":\"IV\", \"X\":8.0, \"Y\":8.84},\\n  {\"Series\":\"IV\", \"X\":8.0, \"Y\":8.47},\\n  {\"Series\":\"IV\", \"X\":8.0, \"Y\":7.04},\\n  {\"Series\":\"IV\", \"X\":8.0, \"Y\":5.25},\\n  {\"Series\":\"IV\", \"X\":19.0, \"Y\":12.50},\\n  {\"Series\":\"IV\", \"X\":8.0, \"Y\":5.56},\\n  {\"Series\":\"IV\", \"X\":8.0, \"Y\":7.91},\\n  {\"Series\":\"IV\", \"X\":8.0, \"Y\":6.89}\\n]\\n'\n",
            "manzana, pera,kiwi,aguacate\n",
            "\n",
            "limon,naranja\n",
            "\n",
            "sandia,papaya\n",
            "\n",
            "['manzana, pera,kiwi,aguacate\\n', 'limon,naranja\\n', 'sandia,papaya']\n"
          ],
          "name": "stdout"
        }
      ]
    }
  ]
}