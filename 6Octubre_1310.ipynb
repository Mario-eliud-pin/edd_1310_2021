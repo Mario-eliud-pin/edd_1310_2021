{
  "nbformat": 4,
  "nbformat_minor": 0,
  "metadata": {
    "colab": {
      "name": "6Octubre_1310.ipynb",
      "provenance": [],
      "authorship_tag": "ABX9TyNGqwKqDAU5Aa/Lag3T2taZ",
      "include_colab_link": true
    },
    "kernelspec": {
      "name": "python3",
      "display_name": "Python 3"
    }
  },
  "cells": [
    {
      "cell_type": "markdown",
      "metadata": {
        "id": "view-in-github",
        "colab_type": "text"
      },
      "source": [
        "<a href=\"https://colab.research.google.com/github/Mario-eliud-pin/edd_1310_2021/blob/master/6Octubre_1310.ipynb\" target=\"_parent\"><img src=\"https://colab.research.google.com/assets/colab-badge.svg\" alt=\"Open In Colab\"/></a>"
      ]
    },
    {
      "cell_type": "code",
      "metadata": {
        "id": "SiSdYc3QqlZv",
        "outputId": "cb20e0a9-0625-4b74-92ad-e0b7692390a9",
        "colab": {
          "base_uri": "https://localhost:8080/",
          "height": 85
        }
      },
      "source": [
        "#string continuacion\n",
        "\n",
        "frase=\"si funciona no lo conpongas\"\n",
        "numeros_txt= \"      1,2,3,4,    15,   35,    12,    5\"\n",
        "print(numeros_txt)\n",
        "numeros_txt.lstrip()\n",
        "print(numeros_txt)\n",
        "numeros_txt=numeros_txt.lstrip().split(\",\")\n",
        "print(numeros_txt)\n",
        "for j in range(len(numeros_txt)):\n",
        "  numeros_txt[j]=int(numeros_txt[j].strip())\n",
        "print(numeros_txt)\n"
      ],
      "execution_count": 6,
      "outputs": [
        {
          "output_type": "stream",
          "text": [
            "      1,2,3,4,    15,   35,    12,    5\n",
            "      1,2,3,4,    15,   35,    12,    5\n",
            "['1', '2', '3', '4', '    15', '   35', '    12', '    5']\n",
            "[1, 2, 3, 4, 15, 35, 12, 5]\n"
          ],
          "name": "stdout"
        }
      ]
    },
    {
      "cell_type": "markdown",
      "metadata": {
        "id": "1Q3EMLLPv15B"
      },
      "source": [
        "funcion range\n",
        "\n",
        "#la funcion range nos genera un iterador \n",
        "\n",
        "(inicio, stop, incremento)"
      ]
    },
    {
      "cell_type": "code",
      "metadata": {
        "id": "uaC8DYtzwIxM",
        "outputId": "dfeebed0-9bc1-478b-8db6-569884b18019",
        "colab": {
          "base_uri": "https://localhost:8080/",
          "height": 289
        }
      },
      "source": [
        "print(range(1,10,2))\n",
        "rango=range(1,10,2)\n",
        "for x in rango:\n",
        "  print(x)\n",
        "rango2=range(10)\n",
        "for y in rango2:\n",
        "  print(y)"
      ],
      "execution_count": 10,
      "outputs": [
        {
          "output_type": "stream",
          "text": [
            "range(1, 10, 2)\n",
            "1\n",
            "3\n",
            "5\n",
            "7\n",
            "9\n",
            "0\n",
            "1\n",
            "2\n",
            "3\n",
            "4\n",
            "5\n",
            "6\n",
            "7\n",
            "8\n",
            "9\n"
          ],
          "name": "stdout"
        }
      ]
    },
    {
      "cell_type": "markdown",
      "metadata": {
        "id": "sw515ZrpxIrj"
      },
      "source": [
        "otro tipo de colecciones\n",
        "#listas\n",
        "-mutables\n",
        "-declaran con->[]\n",
        "-selector [int]=numero de elementos en la lista\n",
        "#tuplas\n",
        "-no mutables\n",
        "-declaran con -> ()\n",
        "-selector [int ]=numero de eementos en la tupla\n",
        "#diccionarios\n",
        "-son mutables \n",
        "-son conjuntos de pares de llaves: valor\n",
        "-equivalentes a los objetos json de javascritp\n",
        "#conjuntos\n",
        "-representacion de la teoria de conjuntos "
      ]
    },
    {
      "cell_type": "code",
      "metadata": {
        "id": "qE5ks1fJyNoT",
        "outputId": "7ba2ed20-e446-45b1-f40d-0fd7077443fa",
        "colab": {
          "base_uri": "https://localhost:8080/",
          "height": 153
        }
      },
      "source": [
        "#listas \n",
        "frutas =[\"pera\", \"manzana\", \"fresa\", \"kiwi\", \"naranja\"]\n",
        "print(frutas)\n",
        "#pueden mesclarce tipos de datos\n",
        "cosas=[\"cuaderno\",2,3.1416, True, False, [\"rojo\", \"azul\"]]\n",
        "print(cosas)\n",
        "frutas[2]=\"Fresa\"\n",
        "print(frutas)\n",
        "#append un elemento al final\n",
        "frutas.append(\"aguacate\")\n",
        "print(frutas)\n",
        "#puedo agregar elementos antes de otros con el metodo insert (posicion, elemento)\n",
        "frutas.insert(2, \"sandia\")\n",
        "print(frutas)\n",
        "fecha=[\"06\",\"10\",\"2020\"]\n",
        "print(fecha)\n",
        "#concatena un elemento \"s\"= \"separacion o concatenacion\" tiene que estar conectado a una nueva variable\n",
        "fecha_str=\"/\".join(fecha)\n",
        "print(fecha_str)\n"
      ],
      "execution_count": 23,
      "outputs": [
        {
          "output_type": "stream",
          "text": [
            "['pera', 'manzana', 'fresa', 'kiwi', 'naranja']\n",
            "['cuaderno', 2, 3.1416, True, False, ['rojo', 'azul']]\n",
            "['pera', 'manzana', 'Fresa', 'kiwi', 'naranja']\n",
            "['pera', 'manzana', 'Fresa', 'kiwi', 'naranja', 'aguacate']\n",
            "['pera', 'manzana', 'sandia', 'Fresa', 'kiwi', 'naranja', 'aguacate']\n",
            "['06', '10', '2020']\n",
            "06/10/2020\n",
            "['cuaderno', 2, 3.1416, True, False, ['rojo', 'azul']]\n"
          ],
          "name": "stdout"
        }
      ]
    },
    {
      "cell_type": "code",
      "metadata": {
        "id": "1f27KE-E3XdS",
        "outputId": "64ba1e38-6dd7-44bf-9efb-664a1d743ec6",
        "colab": {
          "base_uri": "https://localhost:8080/",
          "height": 153
        }
      },
      "source": [
        "#metodos para eliminar o quitar elementos\n",
        "#metodo pop\n",
        "cosas=[\"cuaderno\",2,3.1416, True, False, [\"rojo\", \"azul\"]]\n",
        "print(cosas)\n",
        "cosas.append(\"libro\")\n",
        "cosas.append(\"lapiz\")\n",
        "print(cosas)\n",
        "algo=cosas.pop()\n",
        "print(cosas)\n",
        "algo=cosas.pop(2)\n",
        "print(cosas)\n",
        "#metodo remuve \n",
        "cosas.remove(2)\n",
        "print(cosas)\n",
        "#vaciar una lista\n",
        "cosas.clear()\n",
        "print(cosas)\n",
        "#ordenar la listas\n",
        "print(frutas)\n",
        "frutas.sort()\n",
        "print(frutas)"
      ],
      "execution_count": 34,
      "outputs": [
        {
          "output_type": "stream",
          "text": [
            "['cuaderno', 2, 3.1416, True, False, ['rojo', 'azul']]\n",
            "['cuaderno', 2, 3.1416, True, False, ['rojo', 'azul'], 'libro', 'lapiz']\n",
            "['cuaderno', 2, 3.1416, True, False, ['rojo', 'azul'], 'libro']\n",
            "['cuaderno', 2, True, False, ['rojo', 'azul'], 'libro']\n",
            "['cuaderno', True, False, ['rojo', 'azul'], 'libro']\n",
            "[]\n",
            "['pera', 'manzana', 'fresa', 'kiwi', 'naranja']\n",
            "['fresa', 'kiwi', 'manzana', 'naranja', 'pera']\n"
          ],
          "name": "stdout"
        }
      ]
    },
    {
      "cell_type": "code",
      "metadata": {
        "id": "yEg4pgdf7DpK",
        "outputId": "bbd72290-5022-4b15-ad8c-e6761129647a",
        "colab": {
          "base_uri": "https://localhost:8080/",
          "height": 102
        }
      },
      "source": [
        "#slicing \n",
        "cosas=[\"cuaderno\",2,3.1416, True, False, [\"rojo\", \"azul\"]]\n",
        "print(cosas[3:5:1])\n",
        "#puedo separar \n",
        "print(cosas[0][3:5:1])\n",
        "numero=[1,2,3,4,5,6,7,8,9,10,11,12,13,14,15]\n",
        "print(numero[7:13:1])\n",
        "#susutitur rebanadas [-2,-2]\n",
        "numero[8:13:]=[-2,-2]\n",
        "print(numero)\n",
        "#preguntar por una existencia\n",
        "print(-2 in numero)\n",
        "\n",
        "\n"
      ],
      "execution_count": 39,
      "outputs": [
        {
          "output_type": "stream",
          "text": [
            "[True, False]\n",
            "de\n",
            "[8, 9, 10, 11, 12, 13]\n",
            "[1, 2, 3, 4, 5, 6, 7, 8, -2, -2, 14, 15]\n",
            "True\n"
          ],
          "name": "stdout"
        }
      ]
    },
    {
      "cell_type": "markdown",
      "metadata": {
        "id": "67A_hPbq-kfF"
      },
      "source": [
        "Listas multiimencion\n",
        "#listas dentro de listas\n"
      ]
    },
    {
      "cell_type": "code",
      "metadata": {
        "id": "Ozg6JysI-siy",
        "outputId": "90f5f374-9dcf-4531-e2c2-3aafe79ebd80",
        "colab": {
          "base_uri": "https://localhost:8080/",
          "height": 156
        }
      },
      "source": [
        "computadoras=[\"HP\",\"Mac Book Pro 17\", \"Mate Book\",\"Lenovo legion\"]\n",
        "oss=[\"Windows\", \"Linux\", \"Android\", \"ios\"]\n",
        "computo=[computadoras,oss]\n",
        "print(computo[0])\n",
        "print(computo[1])\n",
        "print(computo[0][2])\n",
        "print(computo[0][3][5::-1])\n",
        "print(computo[1][2][7::-1])\n",
        "dbms=[[\"Mysql\",\"Open Source \",False],[\"ms sql server \",\"de paga \", True]]\n",
        "computo.append(dbms)\n",
        "print(computo)\n",
        "print(computo[2][1][:2:])\n"
      ],
      "execution_count": 52,
      "outputs": [
        {
          "output_type": "stream",
          "text": [
            "['HP', 'Mac Book Pro 17', 'Mate Book', 'Lenovo legion']\n",
            "['Windows', 'Linux', 'Android', 'ios']\n",
            "Mate Book\n",
            "ovoneL\n",
            "diordnA\n",
            "[['HP', 'Mac Book Pro 17', 'Mate Book', 'Lenovo legion'], ['Windows', 'Linux', 'Android', 'ios'], [['Mysql', 'Open Source ', False], ['ms sql server ', 'de paga ', True]]]\n",
            "['ms sql server ', 'de paga ']\n"
          ],
          "name": "stdout"
        }
      ]
    }
  ]
}