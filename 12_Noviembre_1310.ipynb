{
  "nbformat": 4,
  "nbformat_minor": 0,
  "metadata": {
    "colab": {
      "name": "12_Noviembre_1310.ipynb",
      "provenance": [],
      "authorship_tag": "ABX9TyNBAyAH1DNIUybS4fn3ZbJn",
      "include_colab_link": true
    },
    "kernelspec": {
      "name": "python3",
      "display_name": "Python 3"
    }
  },
  "cells": [
    {
      "cell_type": "markdown",
      "metadata": {
        "id": "view-in-github",
        "colab_type": "text"
      },
      "source": [
        "<a href=\"https://colab.research.google.com/github/Mario-eliud-pin/edd_1310_2021/blob/master/12_Noviembre_1310.ipynb\" target=\"_parent\"><img src=\"https://colab.research.google.com/assets/colab-badge.svg\" alt=\"Open In Colab\"/></a>"
      ]
    },
    {
      "cell_type": "code",
      "metadata": {
        "id": "EJgKc3N_wQ2a",
        "outputId": "b314f686-f2a8-4f82-e5e5-445fd1b011e6",
        "colab": {
          "base_uri": "https://localhost:8080/"
        }
      },
      "source": [
        "class Nodo:\n",
        "    def __init__( self , dato ):\n",
        "        self.dato = dato\n",
        "        self.siguiente = None\n",
        "#ejemplo 1\n",
        "a.siguiente=Nodo(10)\n",
        "a= Nodo(10)\n",
        "print(a.dato)\n",
        "print(a.siguiente)\n",
        "\n",
        "#Empieza agregar mas elementos\n",
        "#Ejemplo 2\n",
        "a.siguiente=Nodo(20)\n",
        "\n",
        "#Ejemplo 3\n",
        "a.siguiente.siguiente= Nodo(30)\n",
        "\n",
        "#Ejemplo 4\n",
        "a.siguiente.siguiente.siguiente= Nodo(40)\n",
        "\n",
        "#Ejemplo 5\n",
        "a.siguiente.siguiente.siguiente.siguiente=Nodo(50)\n",
        "\n",
        "# ejemplo de eliminacionn \n",
        "#a.siguiente.siguiente.sigiente.dato=Nodo(45)\n",
        "a.siguiente.siguiente.dato= 45\n",
        "\n",
        "# incertar un valor más al nodo\n",
        "tmp=a.siguiente.siguiente.siguiente #evita que se pierda la referencia, toma los valores a respaldar \n",
        "a.siguiente.siguiente.siguiente=Nodo(48)\n",
        "a.siguiente.siguiente.siguiente.siguiente=tmp\n",
        "\n",
        "a.dato=4\n",
        "\n",
        "#Corrido Transversal\n",
        "curr_node=a\n",
        "print(curr_node.dato, \"==>\", end=\"\")\n",
        "while(curr_node.siguiente != None):\n",
        "    curr_node = curr_node.siguiente\n",
        "    print(curr_node.dato,\"==>\",end=\"\")\n"
      ],
      "execution_count": 5,
      "outputs": [
        {
          "output_type": "stream",
          "text": [
            "10\n",
            "None\n",
            "4 ==>20 ==>45 ==>48 ==>40 ==>50 ==>"
          ],
          "name": "stdout"
        }
      ]
    },
    {
      "cell_type": "code",
      "metadata": {
        "id": "kFQ2TdGlw2rD",
        "outputId": "545c4862-4d7c-4fbc-9322-fbe726357ce2",
        "colab": {
          "base_uri": "https://localhost:8080/"
        }
      },
      "source": [
        "class Nodo:\n",
        "    def __init__( self , dato  , sig=None ):\n",
        "        self.dato = dato\n",
        "        self.siguiente = sig\n",
        "\n",
        "# ejemplo 1\n",
        "a = Nodo( 10 )\n",
        "\n",
        "# ejemplo 2   RECONSTRUCCION\n",
        "a = Nodo(10 , Nodo(20) )\n",
        "\n",
        "a = Nodo(10 , Nodo(20, Nodo(30)) )\n",
        "\n",
        "a = Nodo(10 , Nodo(20, Nodo(30,Nodo(40,Nodo(50)))) )\n",
        "\n",
        "\n",
        "\n",
        "\n",
        "\n",
        "\n",
        "\n",
        "curr_node = a\n",
        "print(curr_node.dato , \"-->\" , end=\"\")\n",
        "while( curr_node.siguiente != None ):\n",
        "    curr_node = curr_node.siguiente\n",
        "    print(curr_node.dato, \"-->\" , end=\"\")\n",
        "print(\"\")"
      ],
      "execution_count": 4,
      "outputs": [
        {
          "output_type": "stream",
          "text": [
            "10 -->20 -->30 -->40 -->50 -->\n"
          ],
          "name": "stdout"
        }
      ]
    }
  ]
}