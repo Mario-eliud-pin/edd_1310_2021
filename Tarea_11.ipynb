{
  "nbformat": 4,
  "nbformat_minor": 0,
  "metadata": {
    "colab": {
      "name": "Tarea_11.ipynb",
      "provenance": [],
      "authorship_tag": "ABX9TyMYs9g+N+FmTXIzKjBOZ9fV",
      "include_colab_link": true
    },
    "kernelspec": {
      "name": "python3",
      "display_name": "Python 3"
    }
  },
  "cells": [
    {
      "cell_type": "markdown",
      "metadata": {
        "id": "view-in-github",
        "colab_type": "text"
      },
      "source": [
        "<a href=\"https://colab.research.google.com/github/Mario-eliud-pin/edd_1310_2021/blob/master/Tarea_11.ipynb\" target=\"_parent\"><img src=\"https://colab.research.google.com/assets/colab-badge.svg\" alt=\"Open In Colab\"/></a>"
      ]
    },
    {
      "cell_type": "code",
      "metadata": {
        "id": "jADLmgbW0yJZ",
        "colab": {
          "base_uri": "https://localhost:8080/"
        },
        "outputId": "eda23f0a-9d48-4a74-8824-36b773519b8a"
      },
      "source": [
        "# Tarea numero 11\r\n",
        "\r\n",
        "def cuenta_rec(num):\r\n",
        "    if num >= 0:\r\n",
        "        print(f\"{num} \")\r\n",
        "        cuenta_regresiva(num-1)\r\n",
        "    else:\r\n",
        "        print(\"el nuemero es negativo\")\r\n",
        "\r\n",
        "def main():\r\n",
        "    cuenta_rec(10)\r\n",
        "\r\n",
        "main()\r\n",
        "\r\n",
        "\r\n",
        "\r\n",
        "class Stack:\r\n",
        "  \r\n",
        "  def __init__(self):\r\n",
        "      self.__data = list()\r\n",
        "\r\n",
        "  def is_empty(self):\r\n",
        "      return len(self.__data) == 0\r\n",
        "\r\n",
        "  def length(self):\r\n",
        "      return len(self.__data)\r\n",
        "\r\n",
        "  def pop(self):\r\n",
        "      if self.is_empty():\r\n",
        "          print(\"Pila vacia\")\r\n",
        "      else:\r\n",
        "          return self.__data.pop()\r\n",
        "\r\n",
        "  def push(self, value):\r\n",
        "      self.__data.append(value)\r\n",
        "\r\n",
        "  def peek(self):\r\n",
        "      return self.__data[len(self.__data)-1]\r\n",
        "\r\n",
        "  def to_string(self):\r\n",
        "      for item in self.__data[::-1]:\r\n",
        "           print(f\"{item}\")\r\n",
        "           print(\"-----\")\r\n",
        "\r\n",
        "# Tarea numero 11\r\n",
        "\r\n",
        "  def rec_mid(pila2):\r\n",
        "  if pila2.length() >=(pila2.length() /2)+1:\r\n",
        "      nuevo=pila2.pop()\r\n",
        "      return rec_mid(pila2.push(nuevo))+pila2\r\n",
        "  else:\r\n",
        "    pila2.pop()\r\n",
        "\r\n",
        "rec_mid(pila2)\r\n",
        "  \r\n"
      ],
      "execution_count": 6,
      "outputs": [
        {
          "output_type": "stream",
          "text": [
            "10 \n",
            "9 \n",
            "8 \n",
            "7 \n",
            "6 \n",
            "5 \n",
            "4 \n",
            "3 \n",
            "2 \n",
            "1 \n",
            "0 \n",
            "Empezamos\n"
          ],
          "name": "stdout"
        }
      ]
    },
    {
      "cell_type": "code",
      "metadata": {
        "colab": {
          "base_uri": "https://localhost:8080/",
          "height": 1000
        },
        "id": "rPSXqM1F3Ea6",
        "outputId": "46000f0b-e622-42f4-c40a-b65af85ccc2f"
      },
      "source": [
        "pila = Stack()\r\n",
        "\r\n",
        "pila.push('1')\r\n",
        "pila.push('2')\r\n",
        "pila.push('3')\r\n",
        "pila.push('4')\r\n",
        "pila.push('5')\r\n",
        "pila.push('6')\r\n",
        "pila.push('7')\r\n",
        "pila.push('8')\r\n",
        "\r\n",
        "print(pila.length())\r\n",
        "\r\n",
        "pila.to_string()\r\n",
        "pila.pop()\r\n",
        "print(\"**\")\r\n",
        "pila.to_string()\r\n",
        "print(f\"var= {var}\")\r\n",
        "\r\n",
        "print (\"************\")\r\n",
        "print(\"esta es la prueba de la tarea \")\r\n",
        "\r\n",
        "pila2=Stack()\r\n",
        "pila2.push(\"1\")\r\n",
        "pila2.push(\"2\")\r\n",
        "pila2.push(\"3\")\r\n",
        "pila2.push(\"4\")\r\n",
        "#print(\"tamañio uno\")\r\n",
        "#print(pila2.length())\r\n",
        "#pila2.pop()\r\n",
        "#print(\"tamañio dos\")\r\n",
        "#print(pila2.length())\r\n",
        "pila2.to_string()\r\n",
        "\r\n",
        "print(\"prueba numero 2 \")\r\n",
        "\r\n",
        "print(pila2.length())\r\n",
        "\r\n",
        "\r\n",
        "\r\n",
        "\r\n"
      ],
      "execution_count": null,
      "outputs": [
        {
          "output_type": "stream",
          "text": [
            "8\n",
            "8\n",
            "-----\n",
            "7\n",
            "-----\n",
            "6\n",
            "-----\n",
            "5\n",
            "-----\n",
            "4\n",
            "-----\n",
            "3\n",
            "-----\n",
            "2\n",
            "-----\n",
            "1\n",
            "-----\n",
            "**\n",
            "7\n",
            "-----\n",
            "6\n",
            "-----\n",
            "5\n",
            "-----\n",
            "4\n",
            "-----\n",
            "3\n",
            "-----\n",
            "2\n",
            "-----\n",
            "1\n",
            "-----\n",
            "var= 8\n",
            "************\n",
            "esta es la prueba de la tarea \n",
            "4\n",
            "-----\n",
            "3\n",
            "-----\n",
            "2\n",
            "-----\n",
            "1\n",
            "-----\n",
            "prueba numero 2 \n",
            "4\n"
          ],
          "name": "stdout"
        },
        {
          "output_type": "error",
          "ename": "AttributeError",
          "evalue": "ignored",
          "traceback": [
            "\u001b[0;31m---------------------------------------------------------------------------\u001b[0m",
            "\u001b[0;31mAttributeError\u001b[0m                            Traceback (most recent call last)",
            "\u001b[0;32m<ipython-input-157-0aa61625b3e3>\u001b[0m in \u001b[0;36m<module>\u001b[0;34m()\u001b[0m\n\u001b[1;32m     37\u001b[0m \u001b[0mprint\u001b[0m\u001b[0;34m(\u001b[0m\u001b[0mpila2\u001b[0m\u001b[0;34m.\u001b[0m\u001b[0mlength\u001b[0m\u001b[0;34m(\u001b[0m\u001b[0;34m)\u001b[0m\u001b[0;34m)\u001b[0m\u001b[0;34m\u001b[0m\u001b[0;34m\u001b[0m\u001b[0m\n\u001b[1;32m     38\u001b[0m \u001b[0;34m\u001b[0m\u001b[0m\n\u001b[0;32m---> 39\u001b[0;31m \u001b[0mrec_mid\u001b[0m\u001b[0;34m(\u001b[0m\u001b[0mpila2\u001b[0m\u001b[0;34m)\u001b[0m\u001b[0;34m\u001b[0m\u001b[0;34m\u001b[0m\u001b[0m\n\u001b[0m\u001b[1;32m     40\u001b[0m \u001b[0;34m\u001b[0m\u001b[0m\n\u001b[1;32m     41\u001b[0m \u001b[0;34m\u001b[0m\u001b[0m\n",
            "\u001b[0;32m<ipython-input-141-3d90c4fd05b5>\u001b[0m in \u001b[0;36mrec_mid\u001b[0;34m(pila2)\u001b[0m\n\u001b[1;32m     41\u001b[0m   \u001b[0;32mif\u001b[0m \u001b[0mpila2\u001b[0m\u001b[0;34m.\u001b[0m\u001b[0mlength\u001b[0m\u001b[0;34m(\u001b[0m\u001b[0;34m)\u001b[0m\u001b[0;34m>=\u001b[0m\u001b[0;34m(\u001b[0m\u001b[0mpila2\u001b[0m\u001b[0;34m.\u001b[0m\u001b[0mlength\u001b[0m\u001b[0;34m(\u001b[0m\u001b[0;34m)\u001b[0m\u001b[0;34m/\u001b[0m\u001b[0;36m2\u001b[0m\u001b[0;34m)\u001b[0m\u001b[0;34m+\u001b[0m\u001b[0;36m1\u001b[0m\u001b[0;34m:\u001b[0m\u001b[0;34m\u001b[0m\u001b[0;34m\u001b[0m\u001b[0m\n\u001b[1;32m     42\u001b[0m       \u001b[0mnuevo\u001b[0m\u001b[0;34m=\u001b[0m\u001b[0mpila2\u001b[0m\u001b[0;34m.\u001b[0m\u001b[0mpop\u001b[0m\u001b[0;34m(\u001b[0m\u001b[0;34m)\u001b[0m\u001b[0;34m\u001b[0m\u001b[0;34m\u001b[0m\u001b[0m\n\u001b[0;32m---> 43\u001b[0;31m       \u001b[0;32mreturn\u001b[0m \u001b[0mrec_mid\u001b[0m\u001b[0;34m(\u001b[0m\u001b[0mpila2\u001b[0m\u001b[0;34m.\u001b[0m\u001b[0mpush\u001b[0m\u001b[0;34m(\u001b[0m\u001b[0mnuevo\u001b[0m\u001b[0;34m)\u001b[0m\u001b[0;34m)\u001b[0m\u001b[0;34m+\u001b[0m\u001b[0mpila2\u001b[0m\u001b[0;34m\u001b[0m\u001b[0;34m\u001b[0m\u001b[0m\n\u001b[0m\u001b[1;32m     44\u001b[0m   \u001b[0;32melse\u001b[0m\u001b[0;34m:\u001b[0m\u001b[0;34m\u001b[0m\u001b[0;34m\u001b[0m\u001b[0m\n\u001b[1;32m     45\u001b[0m     \u001b[0mpila2\u001b[0m\u001b[0;34m.\u001b[0m\u001b[0mpop\u001b[0m\u001b[0;34m(\u001b[0m\u001b[0;34m)\u001b[0m\u001b[0;34m\u001b[0m\u001b[0;34m\u001b[0m\u001b[0m\n",
            "\u001b[0;32m<ipython-input-141-3d90c4fd05b5>\u001b[0m in \u001b[0;36mrec_mid\u001b[0;34m(pila2)\u001b[0m\n\u001b[1;32m     39\u001b[0m \u001b[0;34m\u001b[0m\u001b[0m\n\u001b[1;32m     40\u001b[0m \u001b[0;32mdef\u001b[0m \u001b[0mrec_mid\u001b[0m\u001b[0;34m(\u001b[0m\u001b[0mpila2\u001b[0m\u001b[0;34m)\u001b[0m\u001b[0;34m:\u001b[0m\u001b[0;34m\u001b[0m\u001b[0;34m\u001b[0m\u001b[0m\n\u001b[0;32m---> 41\u001b[0;31m   \u001b[0;32mif\u001b[0m \u001b[0mpila2\u001b[0m\u001b[0;34m.\u001b[0m\u001b[0mlength\u001b[0m\u001b[0;34m(\u001b[0m\u001b[0;34m)\u001b[0m\u001b[0;34m>=\u001b[0m\u001b[0;34m(\u001b[0m\u001b[0mpila2\u001b[0m\u001b[0;34m.\u001b[0m\u001b[0mlength\u001b[0m\u001b[0;34m(\u001b[0m\u001b[0;34m)\u001b[0m\u001b[0;34m/\u001b[0m\u001b[0;36m2\u001b[0m\u001b[0;34m)\u001b[0m\u001b[0;34m+\u001b[0m\u001b[0;36m1\u001b[0m\u001b[0;34m:\u001b[0m\u001b[0;34m\u001b[0m\u001b[0;34m\u001b[0m\u001b[0m\n\u001b[0m\u001b[1;32m     42\u001b[0m       \u001b[0mnuevo\u001b[0m\u001b[0;34m=\u001b[0m\u001b[0mpila2\u001b[0m\u001b[0;34m.\u001b[0m\u001b[0mpop\u001b[0m\u001b[0;34m(\u001b[0m\u001b[0;34m)\u001b[0m\u001b[0;34m\u001b[0m\u001b[0;34m\u001b[0m\u001b[0m\n\u001b[1;32m     43\u001b[0m       \u001b[0;32mreturn\u001b[0m \u001b[0mrec_mid\u001b[0m\u001b[0;34m(\u001b[0m\u001b[0mpila2\u001b[0m\u001b[0;34m.\u001b[0m\u001b[0mpush\u001b[0m\u001b[0;34m(\u001b[0m\u001b[0mnuevo\u001b[0m\u001b[0;34m)\u001b[0m\u001b[0;34m)\u001b[0m\u001b[0;34m+\u001b[0m\u001b[0mpila2\u001b[0m\u001b[0;34m\u001b[0m\u001b[0;34m\u001b[0m\u001b[0m\n",
            "\u001b[0;31mAttributeError\u001b[0m: 'NoneType' object has no attribute 'length'"
          ]
        }
      ]
    }
  ]
}