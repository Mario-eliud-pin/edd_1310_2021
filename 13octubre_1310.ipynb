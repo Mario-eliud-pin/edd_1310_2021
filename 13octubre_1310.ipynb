{
  "nbformat": 4,
  "nbformat_minor": 0,
  "metadata": {
    "colab": {
      "name": "13octubre_1310.ipynb",
      "provenance": [],
      "authorship_tag": "ABX9TyNChrjdZGDAmXy5mqZmVEyV",
      "include_colab_link": true
    },
    "kernelspec": {
      "name": "python3",
      "display_name": "Python 3"
    }
  },
  "cells": [
    {
      "cell_type": "markdown",
      "metadata": {
        "id": "view-in-github",
        "colab_type": "text"
      },
      "source": [
        "<a href=\"https://colab.research.google.com/github/Mario-eliud-pin/edd_1310_2021/blob/master/13octubre_1310.ipynb\" target=\"_parent\"><img src=\"https://colab.research.google.com/assets/colab-badge.svg\" alt=\"Open In Colab\"/></a>"
      ]
    },
    {
      "cell_type": "code",
      "metadata": {
        "id": "SbaRevRLs5yn",
        "outputId": "30d1aeb3-1846-4ea1-b115-e23618354edc",
        "colab": {
          "base_uri": "https://localhost:8080/",
          "height": 105
        }
      },
      "source": [
        "alumno = { \n",
        "          \"num_cta\" : 303030303 ,\n",
        "          \"carrera\" : \"ICO\",\n",
        "          \"promedio\" : 9.8,\n",
        "          \"materias\" :[\"EDD\",\"CyP\",\"Calidad\",\"Emprendimiento\"],\n",
        "          \"direccion\" : { \n",
        "                            \"calle\":\"rancho seco\",\n",
        "                            \"numero\" : 23 ,\n",
        "                            \"delegacion\" : \"Neza\",\n",
        "                            \"estado\" : {\n",
        "                                        \"id\" : 15 ,\n",
        "                                        \"nombre\" : \"Estado de Máxico\" ,\n",
        "                                        \"nombre_corto\" : \"EdoMex\"\n",
        "                                        } ,\n",
        "                            \"CP\":57170\n",
        "\n",
        "                        } \n",
        "          }\n",
        "print(alumno)\n",
        "alumno[\"carrera\"]=\"INGENIERIA EN COMPUTACION\"\n",
        "print(alumno)\n",
        "alumno[\"nombre_completo\"]={\"primer\": \"juan\", \n",
        "                           \"segundo\":\"pedro\",\n",
        "                           \"materno\":\"perez\",\n",
        "                           \"paterno\":\"gomez\"\n",
        "                           }\n",
        "alumno[\"semestre\"]=3\n",
        "print(alumno)\n",
        "\n",
        "print(f\"{alumno['nombre_completo']['primer']} {alumno['nombre_completo']['segundo']}\")"
      ],
      "execution_count": 9,
      "outputs": [
        {
          "output_type": "stream",
          "text": [
            "{'num_cta': 303030303, 'carrera': 'ICO', 'promedio': 9.8, 'materias': ['EDD', 'CyP', 'Calidad', 'Emprendimiento'], 'direccion': {'calle': 'rancho seco', 'numero': 23, 'delegacion': 'Neza', 'estado': {'id': 15, 'nombre': 'Estado de Máxico', 'nombre_corto': 'EdoMex'}, 'CP': 57170}}\n",
            "{'num_cta': 303030303, 'carrera': 'INGENIERIA EN COMPUTACION', 'promedio': 9.8, 'materias': ['EDD', 'CyP', 'Calidad', 'Emprendimiento'], 'direccion': {'calle': 'rancho seco', 'numero': 23, 'delegacion': 'Neza', 'estado': {'id': 15, 'nombre': 'Estado de Máxico', 'nombre_corto': 'EdoMex'}, 'CP': 57170}}\n",
            "{'num_cta': 303030303, 'carrera': 'INGENIERIA EN COMPUTACION', 'promedio': 9.8, 'materias': ['EDD', 'CyP', 'Calidad', 'Emprendimiento'], 'direccion': {'calle': 'rancho seco', 'numero': 23, 'delegacion': 'Neza', 'estado': {'id': 15, 'nombre': 'Estado de Máxico', 'nombre_corto': 'EdoMex'}, 'CP': 57170}, 'nombre_completo': {'primer': 'juan', 'segundo': 'pedro', 'materno': 'perez', 'paterno': 'gomez'}, 'semestre': 3}\n",
            "juan pedro\n"
          ],
          "name": "stdout"
        }
      ]
    },
    {
      "cell_type": "code",
      "metadata": {
        "id": "Nn9taRSo1Nxw",
        "outputId": "7b3e62a8-2658-4264-c50f-c158efb3e76f",
        "colab": {
          "base_uri": "https://localhost:8080/",
          "height": 34
        }
      },
      "source": [
        "computadora={\"prosesador\": \"intel i7\", \"ram\":\"kingsot 128GB\"}\n",
        "otros={\"monitor\": \"LG 49/\"\"\",\"hd\":\"toshiba 1TB\"}\n",
        "computadora.update(otros)\n",
        "print(computadora)"
      ],
      "execution_count": 17,
      "outputs": [
        {
          "output_type": "stream",
          "text": [
            "{'prosesador': 'intel i7', 'ram': 'kingsot 128GB', 'monitor': 'LG 49/', 'hd': 'toshiba 1TB'}\n"
          ],
          "name": "stdout"
        }
      ]
    },
    {
      "cell_type": "markdown",
      "metadata": {
        "id": "-EA0Bh-v2oDm"
      },
      "source": [
        "**Funciones**\n",
        "son unidades de codigo reutilizable \n",
        "una funcion toma de 0 a n parametros de entrada y da solo una salida o punto retorno de cualquier tipo de dato\n",
        "-solo puedes hacer dos cosas, definirla y llamar a la función\n",
        "\n",
        "\n",
        "se definen con la palabra reservada def"
      ]
    },
    {
      "cell_type": "code",
      "metadata": {
        "id": "aWRwA_l73lCc",
        "outputId": "f497f7b2-538b-49fa-fd44-cd7fa9af7e11",
        "colab": {
          "base_uri": "https://localhost:8080/",
          "height": 136
        }
      },
      "source": [
        "def sumar (x,y):\n",
        "  resultado=x+y\n",
        "  return resultado #salida\n",
        "def saludar(nombre):\n",
        "  print(f\"hola {nombre} como estas? \")\n",
        "  return None\n",
        "saludar(\"mario\")\n",
        "\n",
        "#procear None \n",
        "def multiplicar (valor, veces):\n",
        "  if valor !=None:\n",
        "    c=valor*veces\n",
        "  else:\n",
        "    c=\"valor invalido\"\n",
        "  return c\n",
        "def operacion (a,b,c):\n",
        "  res=a+(b/c)\n",
        "  return res\n",
        "\n",
        "\n",
        "\n",
        "\n",
        "print(operacion(2,9,3))\n",
        "print(operacion(2,c=3,b=9))\n",
        "\n",
        "print(multiplicar(5,6))\n",
        "print(multiplicar(None,6))\n",
        "print(sumar(10,5))\n",
        "print(sumar(2,6))"
      ],
      "execution_count": 33,
      "outputs": [
        {
          "output_type": "stream",
          "text": [
            "hola mario como estas? \n",
            "5.0\n",
            "5.0\n",
            "30\n",
            "valor invalido\n",
            "15\n",
            "8\n"
          ],
          "name": "stdout"
        }
      ]
    },
    {
      "cell_type": "code",
      "metadata": {
        "id": "bR66YD2tyWUy",
        "outputId": "58e63bae-ff6e-43a9-f7f2-d56f1d0ba95d",
        "colab": {
          "base_uri": "https://localhost:8080/",
          "height": 428
        }
      },
      "source": [
        "llaves=alumno.keys()\n",
        "print(llaves)\n",
        "for llave in llaves:\n",
        "  print(llave.upper())\n",
        "valores=alumno.values()\n",
        "for val in valores:\n",
        "  print(val)\n",
        "pares = alumno.items()\n",
        "print(pares)\n",
        "for elem in pares:\n",
        "  print(f\"el campo {elem[0]} tiene el valor {elem [1]}\")\n",
        "\n"
      ],
      "execution_count": 15,
      "outputs": [
        {
          "output_type": "stream",
          "text": [
            "dict_keys(['num_cta', 'carrera', 'promedio', 'materias', 'direccion', 'nombre_completo', 'semestre'])\n",
            "NUM_CTA\n",
            "CARRERA\n",
            "PROMEDIO\n",
            "MATERIAS\n",
            "DIRECCION\n",
            "NOMBRE_COMPLETO\n",
            "SEMESTRE\n",
            "303030303\n",
            "INGENIERIA EN COMPUTACION\n",
            "9.8\n",
            "['EDD', 'CyP', 'Calidad', 'Emprendimiento']\n",
            "{'calle': 'rancho seco', 'numero': 23, 'delegacion': 'Neza', 'estado': {'id': 15, 'nombre': 'Estado de Máxico', 'nombre_corto': 'EdoMex'}, 'CP': 57170}\n",
            "{'primer': 'juan', 'segundo': 'pedro', 'materno': 'perez', 'paterno': 'gomez'}\n",
            "3\n",
            "dict_items([('num_cta', 303030303), ('carrera', 'INGENIERIA EN COMPUTACION'), ('promedio', 9.8), ('materias', ['EDD', 'CyP', 'Calidad', 'Emprendimiento']), ('direccion', {'calle': 'rancho seco', 'numero': 23, 'delegacion': 'Neza', 'estado': {'id': 15, 'nombre': 'Estado de Máxico', 'nombre_corto': 'EdoMex'}, 'CP': 57170}), ('nombre_completo', {'primer': 'juan', 'segundo': 'pedro', 'materno': 'perez', 'paterno': 'gomez'}), ('semestre', 3)])\n",
            "el campo num_cta tiene el valor 303030303\n",
            "el campo carrera tiene el valor INGENIERIA EN COMPUTACION\n",
            "el campo promedio tiene el valor 9.8\n",
            "el campo materias tiene el valor ['EDD', 'CyP', 'Calidad', 'Emprendimiento']\n",
            "el campo direccion tiene el valor {'calle': 'rancho seco', 'numero': 23, 'delegacion': 'Neza', 'estado': {'id': 15, 'nombre': 'Estado de Máxico', 'nombre_corto': 'EdoMex'}, 'CP': 57170}\n",
            "el campo nombre_completo tiene el valor {'primer': 'juan', 'segundo': 'pedro', 'materno': 'perez', 'paterno': 'gomez'}\n",
            "el campo semestre tiene el valor 3\n"
          ],
          "name": "stdout"
        }
      ]
    },
    {
      "cell_type": "code",
      "metadata": {
        "id": "MBrkM0DM_Q6-",
        "outputId": "88998c90-1194-491d-f24d-246b65cb61ed",
        "colab": {
          "base_uri": "https://localhost:8080/",
          "height": 153
        }
      },
      "source": [
        "#vaores por defecto\n",
        "def comanda(primer, fuerte, postre=\"galletita de animal\"):\n",
        "  print(f\"pidio de primer plato {primer}\")\n",
        "  print(f\"de plato fuerte {fuerte}\")\n",
        "  print(f\"de postre\")\n",
        "\n",
        "comanda(\"esparagos\", \"torta cubana\",None)\n",
        "\n",
        "\n",
        "#de esta manera es más compacto\n",
        "def comanda_2( * opciones ):\n",
        "  print(f\"pidio de primer plato {opciones[0]}\")\n",
        "  print(f\"pidio de plato fuerte {opciones[1]}\")\n",
        "  print(f\"de postre {opciones[2]}\")\n",
        "  print(\"indicaciones extra\")\n",
        "  for ind in opciones[3::]:\n",
        "    print(f\"\\t {ind}\")\n",
        "\n",
        "comanda_2(\"sopa aguada\", \"torta de papa\", \"gelatina de limon\", \"traer un baso con agua\")"
      ],
      "execution_count": 39,
      "outputs": [
        {
          "output_type": "stream",
          "text": [
            "pidio de primer plato esparagos\n",
            "de plato fuerte torta cubana\n",
            "de postre\n",
            "pidio de primer plato sopa aguada\n",
            "pidio de plato fuerte torta de papa\n",
            "de postre gelatina de limon\n",
            "indicaciones extra\n",
            "\t traer un baso con agua\n"
          ],
          "name": "stdout"
        }
      ]
    },
    {
      "cell_type": "code",
      "metadata": {
        "id": "1gSUhGE0CNe9",
        "outputId": "09acd0cc-8ca1-4e47-a77b-66d542952e4f",
        "colab": {
          "base_uri": "https://localhost:8080/",
          "height": 102
        }
      },
      "source": [
        "#argumentos posicionales con diccionarios\n",
        "\n",
        "def comanda_3(**opciones):\n",
        "  print(opciones)\n",
        "  for op in opciones.items():\n",
        "    print(f\"{op[0]}->{op[1]}\")\n",
        "\n",
        "comanda_3(primer=\"sopa aguada\", fuerte=\"torta de papa\", postre=\"gelatina de limon\", extra1=\"traer un baso con agua\")"
      ],
      "execution_count": 43,
      "outputs": [
        {
          "output_type": "stream",
          "text": [
            "{'primer': 'sopa aguada', 'fuerte': 'torta de papa', 'postre': 'gelatina de limon', 'extra1': 'traer un baso con agua'}\n",
            "primer->sopa aguada\n",
            "fuerte->torta de papa\n",
            "postre->gelatina de limon\n",
            "extra1->traer un baso con agua\n"
          ],
          "name": "stdout"
        }
      ]
    }
  ]
}