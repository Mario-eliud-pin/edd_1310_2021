{
  "nbformat": 4,
  "nbformat_minor": 0,
  "metadata": {
    "colab": {
      "name": "Untitled4.ipynb",
      "provenance": [],
      "authorship_tag": "ABX9TyOGL+IZ1JRUga5b5+ziT5XW",
      "include_colab_link": true
    },
    "kernelspec": {
      "name": "python3",
      "display_name": "Python 3"
    }
  },
  "cells": [
    {
      "cell_type": "markdown",
      "metadata": {
        "id": "view-in-github",
        "colab_type": "text"
      },
      "source": [
        "<a href=\"https://colab.research.google.com/github/Mario-eliud-pin/edd_1310_2021/blob/master/29_0ctubre_2020.ipynb\" target=\"_parent\"><img src=\"https://colab.research.google.com/assets/colab-badge.svg\" alt=\"Open In Colab\"/></a>"
      ]
    },
    {
      "cell_type": "code",
      "metadata": {
        "id": "p26S42AH8rBd",
        "outputId": "a49d5229-0418-4b02-8485-6d821d03d9f0",
        "colab": {
          "base_uri": "https://localhost:8080/",
          "height": 333
        }
      },
      "source": [
        "class Array:\n",
        "    def __init__(self,tam):\n",
        "        self.__info= [0 for x in range(tam)]\n",
        "    def get_item(self, posicion):\n",
        "        dato=-1\n",
        "        try:\n",
        "            return self.__info[posicion]\n",
        "            pass\n",
        "        except Exception as e:\n",
        "            print(\"Error de posicion\")\n",
        "            dato=\"Error\"\n",
        "        return dato\n",
        "    def set_item(self, dato ,posicion):\n",
        "        try:\n",
        "            self.__info[posicion]\n",
        "        except Exception as e:\n",
        "            print(\"Error de posicion\")\n",
        "    def get_length(self):\n",
        "        return len(self.__info)\n",
        "    def clear(self, dato ):\n",
        "        self.__info=[dato for x in range(len(self.__info))]\n",
        "\n",
        "    def __iter__(self):\n",
        "        return _IteradorArreglo(self.__info)\n",
        "\n",
        "class _IteradorArreglo:\n",
        "    def __init__(self,arr):\n",
        "        self.__arr=arr\n",
        "        self.__indice=0\n",
        "    def __iter__(self):\n",
        "        return self\n",
        "\n",
        "    def __net__(self):\n",
        "        if self.__indice < len(self.__arr):\n",
        "            dato=self.__arr[self.__indice]\n",
        "            self.__indice +=1\n",
        "            return  dato\n",
        "        else:\n",
        "            raise StopIteration\n",
        "\n",
        "\n",
        "algo=Array(10)\n",
        "print(algo.get_item(660))\n",
        "algo.set_item(555,3) #algo y la posicion, como esta estructurado en el set item\n",
        "print(algo.get_item(6))\n",
        "print(f\"el arreglo tiene {algo.get_length()} elementos\")\n",
        "algo.clear(777)\n",
        "print(algo.get_item(3))\n",
        "print(\"esta es al prueba del iterador\")\n",
        "for x in algo:\n",
        "    print(x)\n",
        "print(\"---prueba iterador__\")\n",
        "for x in range(algo.get_length()):\n",
        "    print(f\"{x}-> {algo.get_item(x)}\")\n"
      ],
      "execution_count": 1,
      "outputs": [
        {
          "output_type": "stream",
          "text": [
            "Error de posicion\n",
            "Error\n",
            "0\n",
            "el arreglo tiene 10 elementos\n",
            "777\n",
            "esta es al prueba del iterador\n"
          ],
          "name": "stdout"
        },
        {
          "output_type": "error",
          "ename": "TypeError",
          "evalue": "ignored",
          "traceback": [
            "\u001b[0;31m---------------------------------------------------------------------------\u001b[0m",
            "\u001b[0;31mTypeError\u001b[0m                                 Traceback (most recent call last)",
            "\u001b[0;32m<ipython-input-1-26f03b432783>\u001b[0m in \u001b[0;36m<module>\u001b[0;34m()\u001b[0m\n\u001b[1;32m     48\u001b[0m \u001b[0mprint\u001b[0m\u001b[0;34m(\u001b[0m\u001b[0malgo\u001b[0m\u001b[0;34m.\u001b[0m\u001b[0mget_item\u001b[0m\u001b[0;34m(\u001b[0m\u001b[0;36m3\u001b[0m\u001b[0;34m)\u001b[0m\u001b[0;34m)\u001b[0m\u001b[0;34m\u001b[0m\u001b[0;34m\u001b[0m\u001b[0m\n\u001b[1;32m     49\u001b[0m \u001b[0mprint\u001b[0m\u001b[0;34m(\u001b[0m\u001b[0;34m\"esta es al prueba del iterador\"\u001b[0m\u001b[0;34m)\u001b[0m\u001b[0;34m\u001b[0m\u001b[0;34m\u001b[0m\u001b[0m\n\u001b[0;32m---> 50\u001b[0;31m \u001b[0;32mfor\u001b[0m \u001b[0mx\u001b[0m \u001b[0;32min\u001b[0m \u001b[0malgo\u001b[0m\u001b[0;34m:\u001b[0m\u001b[0;34m\u001b[0m\u001b[0;34m\u001b[0m\u001b[0m\n\u001b[0m\u001b[1;32m     51\u001b[0m     \u001b[0mprint\u001b[0m\u001b[0;34m(\u001b[0m\u001b[0mx\u001b[0m\u001b[0;34m)\u001b[0m\u001b[0;34m\u001b[0m\u001b[0;34m\u001b[0m\u001b[0m\n\u001b[1;32m     52\u001b[0m \u001b[0mprint\u001b[0m\u001b[0;34m(\u001b[0m\u001b[0;34m\"---prueba iterador__\"\u001b[0m\u001b[0;34m)\u001b[0m\u001b[0;34m\u001b[0m\u001b[0;34m\u001b[0m\u001b[0m\n",
            "\u001b[0;31mTypeError\u001b[0m: iter() returned non-iterator of type '_IteradorArreglo'"
          ]
        }
      ]
    }
  ]
}