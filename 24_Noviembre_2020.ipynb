{
  "nbformat": 4,
  "nbformat_minor": 0,
  "metadata": {
    "colab": {
      "name": "24_Noviembre_2020.ipynb",
      "provenance": [],
      "authorship_tag": "ABX9TyO4hNlKRtesBL9FmfcxJJht",
      "include_colab_link": true
    },
    "kernelspec": {
      "name": "python3",
      "display_name": "Python 3"
    }
  },
  "cells": [
    {
      "cell_type": "markdown",
      "metadata": {
        "id": "view-in-github",
        "colab_type": "text"
      },
      "source": [
        "<a href=\"https://colab.research.google.com/github/Mario-eliud-pin/edd_1310_2021/blob/master/24_Noviembre_2020.ipynb\" target=\"_parent\"><img src=\"https://colab.research.google.com/assets/colab-badge.svg\" alt=\"Open In Colab\"/></a>"
      ]
    },
    {
      "cell_type": "code",
      "metadata": {
        "id": "jm4syBCynYZk"
      },
      "source": [
        "class Nondodoble:\n",
        "    def __init__(self, valor, anterior=None, siguiente=None):\n",
        "        self.data=valor\n",
        "        self.next=siguiente\n",
        "        self.prev=anterior\n",
        "class doublelinklist:\n",
        "    def __init__(self):\n",
        "        self.__head=Nondodoble(None)\n",
        "        self.__tail=Nondodoble(None)\n",
        "        self.__head.next=self.__tail\n",
        "        self.__tail.prev=self.__head\n",
        "        def self.__size=0\n",
        "    def get_size(self):\n",
        "        return self.__size\n",
        "\n",
        "    def is_empty(self):\n",
        "        return self.__size==0\n",
        "    def append(self, valor):\n",
        "        if self.is_empty():\n",
        "            nuevo=Nondodoble( valor )\n",
        "            self.__head=nuevo\n",
        "            self.__tail=nuevo\n",
        "        else:\n",
        "            nuevo=Nondodoble(valor, self.__tail, None)\n",
        "            self.__tail.next=nuevo\n",
        "            self.__tail=nuevo\n",
        "        self.__size+=1\n",
        "\n",
        "    def transversal(self):\n",
        "        curr_node=self.__head\n",
        "        while curr_node!=None:\n",
        "            print(f\"<--{curr_node.data}-->\",end=\"\")\n",
        "            curr_node=curr_node.next\n",
        "        print(\"\")\n",
        "\n",
        "    def reverse_transversal(self):\n",
        "        curr_node=self.__tail\n",
        "        while curr_node!=None:\n",
        "            print(f\"<--{curr_node.data}-->\",end=\"\")\n",
        "            curr_node=curr_node.prev\n",
        "        print(\"\")\n",
        "\n",
        "    def remove_from_head(self, valor):\n",
        "        curr_node=self.__head\n",
        "        if self.__head.data=valor:\n",
        "            \n",
        "        while curr_node.data!=valor and curr_node!=None:\n",
        "            curr_node=curr_node.next\n",
        "        if curr_node.data==valor:\n",
        "            curr_node.prev.next=curr_node.next\n",
        "            curr_node.next.prev=curr_node.prev\n",
        "        curr_node.next=None\n",
        "        curr_node.prev=None\n",
        "        self.__size-=1\n",
        "        \n",
        "from listas import doublelinklist\n",
        "ld=doublelinklist()\n",
        "print(\"esta vaia : \", ld.is_empty())\n",
        "ld.append(10)\n",
        "ld.append(20)\n",
        "ld.append(30)\n",
        "print(f\"la lista tiene{ld.get_size} elementos\")\n",
        "ld.transversal()\n",
        "ld.reverse_transversal()\n",
        "ld.remove_from_head(20)"
      ],
      "execution_count": null,
      "outputs": []
    }
  ]
}