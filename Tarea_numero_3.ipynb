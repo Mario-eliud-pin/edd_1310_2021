{
  "nbformat": 4,
  "nbformat_minor": 0,
  "metadata": {
    "colab": {
      "name": "Tarea_numero_3.ipynb",
      "provenance": [],
      "authorship_tag": "ABX9TyNSH3aGi1/X4Vm2a+NypVtJ",
      "include_colab_link": true
    },
    "kernelspec": {
      "name": "python3",
      "display_name": "Python 3"
    }
  },
  "cells": [
    {
      "cell_type": "markdown",
      "metadata": {
        "id": "view-in-github",
        "colab_type": "text"
      },
      "source": [
        "<a href=\"https://colab.research.google.com/github/Mario-eliud-pin/edd_1310_2021/blob/master/Tarea_numero_3.ipynb\" target=\"_parent\"><img src=\"https://colab.research.google.com/assets/colab-badge.svg\" alt=\"Open In Colab\"/></a>"
      ]
    },
    {
      "cell_type": "code",
      "metadata": {
        "id": "PV22x7NgTOCf",
        "outputId": "0045adb4-5234-4fc3-97bb-30ec1218fb1a",
        "colab": {
          "base_uri": "https://localhost:8080/",
          "height": 102
        }
      },
      "source": [
        "class persona:\n",
        "  def __init__(self,n,e,es):\n",
        "    self.__nombre=n\n",
        "    self.__edad=e\n",
        "    self.__estatura=es\n",
        "  def dormir(self):\n",
        "    return \"joven \"+ self.__nombre +\"  seguro que no esta cansado? le sugiero que duerma pronto!\" \n",
        "  def comer(self):\n",
        "    return \"con una estatura de  \"+ self.__estatura+\"m\"+\"  le recomendaria que coma algo\"\n",
        "\n",
        "primer_usuario=persona(input(\"que usuario eres?:\"),int(input(\"que edad tiene?\")),input(\"cuanto mide ?\"))\n",
        "print(primer_usuario.dormir())\n",
        "print(primer_usuario.comer())"
      ],
      "execution_count": 19,
      "outputs": [
        {
          "output_type": "stream",
          "text": [
            "que usuario eres?:mario\n",
            "que edad tiene?21\n",
            "cuanto mide ?1.80\n",
            "joven : mario  seguro que no esta cansado deveria dormir pronto!\n",
            "con una estatura de : 1.80m  le recomendaria que coma algo\n"
          ],
          "name": "stdout"
        }
      ]
    },
    {
      "cell_type": "code",
      "metadata": {
        "id": "NaJcqf0ec0bg",
        "outputId": "2a73f4f6-df14-4d0a-ffe8-adf8e246b28e",
        "colab": {
          "base_uri": "https://localhost:8080/",
          "height": 51
        }
      },
      "source": [
        "class celular:\n",
        "  def __init__(self,ma,m,em):\n",
        "    self.__marca=ma\n",
        "    self.__modelo=m\n",
        "    self.__espacio_de_memoria=em\n",
        "  def llamar(self):\n",
        "    return \"el dispositivo: \"+self.__marca+\"   no tiene dinero para poder realizar la llamada\"\n",
        "  def alarma(self):\n",
        "    return self.__modelo+\"   pon la alarma con la cancion de pokemon :D\"\n",
        "mi_celular=celular(\"motorola\",\"Moto G8\",\"64Gb\")\n",
        "print(mi_celular.llamar())\n",
        "print(mi_celular.alarma())"
      ],
      "execution_count": 23,
      "outputs": [
        {
          "output_type": "stream",
          "text": [
            "el dispositivo: motorola   no tiene dinero para poder realizar la llamada\n",
            "Moto G8   pon la alarma con la cancion de pokemon :D\n"
          ],
          "name": "stdout"
        }
      ]
    }
  ]
}