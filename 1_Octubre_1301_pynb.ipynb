{
  "nbformat": 4,
  "nbformat_minor": 0,
  "metadata": {
    "colab": {
      "name": "1 Octubre_1301.pynb",
      "provenance": [],
      "authorship_tag": "ABX9TyNUdz0oYUfDONhRHF3MoSQx",
      "include_colab_link": true
    },
    "kernelspec": {
      "name": "python3",
      "display_name": "Python 3"
    }
  },
  "cells": [
    {
      "cell_type": "markdown",
      "metadata": {
        "id": "view-in-github",
        "colab_type": "text"
      },
      "source": [
        "<a href=\"https://colab.research.google.com/github/Mario-eliud-pin/edd_1310_2021/blob/master/1_Octubre_1301_pynb.ipynb\" target=\"_parent\"><img src=\"https://colab.research.google.com/assets/colab-badge.svg\" alt=\"Open In Colab\"/></a>"
      ]
    },
    {
      "cell_type": "code",
      "metadata": {
        "id": "Plr0g_987uPA"
      },
      "source": [
        ""
      ],
      "execution_count": null,
      "outputs": []
    },
    {
      "cell_type": "markdown",
      "metadata": {
        "id": "H0Yn_Muh8D6H"
      },
      "source": [
        "tipo de dato\n"
      ]
    },
    {
      "cell_type": "code",
      "metadata": {
        "id": "auTmKZ-e8HVr",
        "outputId": "52f8eac7-bd4b-4f72-9161-e7d93043f5a3",
        "colab": {
          "base_uri": "https://localhost:8080/",
          "height": 136
        }
      },
      "source": [
        "escuela = \"fes aragon\"\n",
        "print(escuela)\n",
        "print(\"----\")\n",
        "edad= 20\n",
        "print(edad)\n",
        "estatura=1.80\n",
        "print(f\"la estatura es de {estatura} m\")\n",
        "fumador=True\n",
        "frase=\"\"\"este esun tipo de dato \n",
        "de multiple linea\"\"\"\n",
        "print(frase)\n",
        "nombre=\"rulo\"\n",
        "print(nombre)"
      ],
      "execution_count": 8,
      "outputs": [
        {
          "output_type": "stream",
          "text": [
            "fes aragon\n",
            "----\n",
            "20\n",
            "la estatura es de 1.8 m\n",
            "este esun tipo de dato \n",
            "de multiple linea\n",
            "rulo\n"
          ],
          "name": "stdout"
        }
      ]
    },
    {
      "cell_type": "markdown",
      "metadata": {
        "id": "uhYlOkzD98uT"
      },
      "source": [
        "#print \n",
        "con comas \n",
        "con signo +\n",
        "con format()\n",
        "con el operador f\""
      ]
    },
    {
      "cell_type": "code",
      "metadata": {
        "id": "jmueVe6B-fsO",
        "outputId": "09cba5b1-4bcb-4ffe-e85a-14de0f845827",
        "colab": {
          "base_uri": "https://localhost:8080/",
          "height": 85
        }
      },
      "source": [
        "print(nombre,edad)\n",
        "#  + concatena\n",
        "print(nombre+str(edad))\n",
        "# con formato Nombre : rulo y tiene 20 años\n",
        "print(f\"Nombre : {nombre} y su edad es de {edad} años\")\n",
        "print(\"Nombre : {1} tiene -> {0} años\".format(nombre,edad))"
      ],
      "execution_count": 16,
      "outputs": [
        {
          "output_type": "stream",
          "text": [
            "rulo 20\n",
            "rulo20\n",
            "Nombre : rulo y su edad es de 20 años\n",
            "Nombre : 20 tiene -> rulo años\n"
          ],
          "name": "stdout"
        }
      ]
    },
    {
      "cell_type": "markdown",
      "metadata": {
        "id": "KmIa2jinCQUx"
      },
      "source": [
        "#caracter de escape \n",
        "\\n salto de linea \n",
        "\\t tabulador \n",
        "\\a beep\n",
        "\\\" imprimir comillas dobles\n",
        "\\' imprimir comilla simple\n"
      ]
    },
    {
      "cell_type": "markdown",
      "metadata": {
        "id": "WC_La9f7D_cd"
      },
      "source": [
        "#ayudas de tipos de datos en python \n",
        "dir()\n",
        "help()"
      ]
    },
    {
      "cell_type": "code",
      "metadata": {
        "id": "U3cWpIgFELBS",
        "outputId": "ba60b6a8-1a69-4733-e094-ccfe89ca414e",
        "colab": {
          "base_uri": "https://localhost:8080/",
          "height": 51
        }
      },
      "source": [
        "# str, int, float, bool, list, set, dict, tuple\n",
        "\n",
        "nombre_completo= \"viveros rulo\"\n",
        "print(nombre_completo.capitalize())\n",
        "print(nombre_completo.upper(),end=\"------\")"
      ],
      "execution_count": 22,
      "outputs": [
        {
          "output_type": "stream",
          "text": [
            "Viveros rulo\n",
            "VIVEROS RULO------"
          ],
          "name": "stdout"
        }
      ]
    },
    {
      "cell_type": "markdown",
      "metadata": {
        "id": "xceO_Z6TGtHW"
      },
      "source": [
        "# clase string \n"
      ]
    },
    {
      "cell_type": "code",
      "metadata": {
        "id": "H9xdMPN4HKTO",
        "outputId": "9a139eb6-0171-41dd-902d-6928024773bb",
        "colab": {
          "base_uri": "https://localhost:8080/",
          "height": 119
        }
      },
      "source": [
        "#clase string es utilizada como una  arreglo en java y una lista en python \n",
        "telefono =\"hauwei mate 30 pro\"\n",
        "print(telefono[0])\n",
        "\n",
        "#slising\n",
        "# [selector:stop: incremento]\n",
        "\n",
        "print(telefono[7:11])\n",
        "print(len(telefono))\n",
        "#el valor por defecto de stop es el vlor de la cadena que \n",
        "# incremento negativo lo lea para atras \n",
        "print(telefono[::-1])\n",
        "#rebanar fragmentos de atras hacia adeante\n",
        "print(telefono[-3::1])\n",
        "#se pueden usar variables dentro de []\n",
        "int=-3\n",
        "inc=1\n",
        "print(telefono[int::inc])"
      ],
      "execution_count": 31,
      "outputs": [
        {
          "output_type": "stream",
          "text": [
            "h\n",
            "mate\n",
            "18\n",
            "orp 03 etam iewuah\n",
            "pro\n",
            "pro\n"
          ],
          "name": "stdout"
        }
      ]
    },
    {
      "cell_type": "markdown",
      "metadata": {
        "id": "JcARxNrSNLxV"
      },
      "source": [
        "metodos de string\n",
        "Existen metodos muy utules para esta clase "
      ]
    },
    {
      "cell_type": "code",
      "metadata": {
        "id": "qS64N0_QNW3S",
        "outputId": "0a6b6cef-5223-4fc0-a833-b6a5d073d3d8",
        "colab": {
          "base_uri": "https://localhost:8080/",
          "height": 170
        }
      },
      "source": [
        "fac=\"    facultad de estudios superiores aragon      \"\n",
        "#cuenta el umero de lemento de la cadena\n",
        "print(fac.count(\"s\"))\n",
        "# find va  a encontrar el indice de la primera coinsiencia \n",
        "print(fac.find(\"s\"))\n",
        "# index encuentra el indice de la primera \n",
        "print(fac.index(\"f\"))\n",
        "#strips quita los espacios en blanco y saltos de liea \\n\n",
        "print(fac.strip())\n",
        "print(f\"tamaño de la cadena fac es de {len(fac)}caracteres\")\n",
        "#split dividir una cadena con base a un caracter en especia \n",
        "print(fac.split(\"t\"))\n",
        "print(fac.strip().split(\" \"))\n",
        "\n",
        "#copiar listas\n",
        "\n",
        "colores=[\"rojo\", \"verde\", \"azul\"]\n",
        "otra = colores.copy()\n",
        "print(colores)\n",
        "print(otra)"
      ],
      "execution_count": 47,
      "outputs": [
        {
          "output_type": "stream",
          "text": [
            "4\n",
            "17\n",
            "4\n",
            "facultad de estudios superiores aragon\n",
            "tamaño de la cadena fac es de 48caracteres\n",
            "['    facul', 'ad de es', 'udios superiores aragon      ']\n",
            "['facultad', 'de', 'estudios', 'superiores', 'aragon']\n",
            "['rojo', 'verde', 'azul']\n",
            "['rojo', 'verde', 'azul']\n"
          ],
          "name": "stdout"
        }
      ]
    },
    {
      "cell_type": "code",
      "metadata": {
        "id": "4ZfZby6bNOtM"
      },
      "source": [
        ""
      ],
      "execution_count": null,
      "outputs": []
    }
  ]
}