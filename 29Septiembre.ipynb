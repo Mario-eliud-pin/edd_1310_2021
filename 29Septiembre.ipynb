{
  "nbformat": 4,
  "nbformat_minor": 0,
  "metadata": {
    "colab": {
      "name": "Untitled0.ipynb",
      "provenance": [],
      "authorship_tag": "ABX9TyPyYCd9IgnG3Kj2VK+fuxMJ",
      "include_colab_link": true
    },
    "kernelspec": {
      "name": "python3",
      "display_name": "Python 3"
    }
  },
  "cells": [
    {
      "cell_type": "markdown",
      "metadata": {
        "id": "view-in-github",
        "colab_type": "text"
      },
      "source": [
        "<a href=\"https://colab.research.google.com/github/Mario-eliud-pin/edd_1310_2021/blob/master/29Septiembre.ipynb\" target=\"_parent\"><img src=\"https://colab.research.google.com/assets/colab-badge.svg\" alt=\"Open In Colab\"/></a>"
      ]
    },
    {
      "cell_type": "code",
      "metadata": {
        "id": "pBnWvsgVsq_Q"
      },
      "source": [
        "edad=10\n",
        "nombre=\"mario\""
      ],
      "execution_count": 15,
      "outputs": []
    },
    {
      "cell_type": "code",
      "metadata": {
        "id": "iKLGtfqdvKGV",
        "outputId": "9efd1a88-556f-4d21-8d9d-8cdc306d2db5",
        "colab": {
          "base_uri": "https://localhost:8080/",
          "height": 85
        }
      },
      "source": [
        "print(edad)\n",
        "colores=[\"rojo\", \"azul\", \"verde\", \"morado\", \"violeta\"]\n",
        "print(colores)\n",
        "print(colores[3])\n",
        "print(colores[3][2:4])\n"
      ],
      "execution_count": 6,
      "outputs": [
        {
          "output_type": "stream",
          "text": [
            "10\n",
            "['rojo', 'azul', 'verde', 'morado', 'violeta']\n",
            "morado\n",
            "ra\n"
          ],
          "name": "stdout"
        }
      ]
    },
    {
      "cell_type": "code",
      "metadata": {
        "id": "GAgP_k3qzEXJ",
        "outputId": "db3cddd2-27ed-47e2-f5a3-d09d9451c47d",
        "colab": {
          "base_uri": "https://localhost:8080/",
          "height": 85
        }
      },
      "source": [
        "for i in range(0,4,1):\n",
        "  print(colores[i])\n"
      ],
      "execution_count": 7,
      "outputs": [
        {
          "output_type": "stream",
          "text": [
            "rojo\n",
            "azul\n",
            "verde\n",
            "morado\n"
          ],
          "name": "stdout"
        }
      ]
    },
    {
      "cell_type": "code",
      "metadata": {
        "id": "C4waulN8znQG",
        "outputId": "8dab91d5-67b3-4f92-9fb0-56c11721730b",
        "colab": {
          "base_uri": "https://localhost:8080/",
          "height": 102
        }
      },
      "source": [
        "for color in colores:\n",
        "  print(color)\n"
      ],
      "execution_count": 10,
      "outputs": [
        {
          "output_type": "stream",
          "text": [
            "rojo\n",
            "azul\n",
            "verde\n",
            "morado\n",
            "violeta\n"
          ],
          "name": "stdout"
        }
      ]
    },
    {
      "cell_type": "code",
      "metadata": {
        "id": "kzNuuRJr0mfS",
        "outputId": "7ed81ae8-ea4c-4562-9eb3-ab1f3dcb3e66",
        "colab": {
          "base_uri": "https://localhost:8080/",
          "height": 102
        }
      },
      "source": [
        "for m in range(0,len(nombre),1):\n",
        "  print(nombre[m])"
      ],
      "execution_count": 18,
      "outputs": [
        {
          "output_type": "stream",
          "text": [
            "m\n",
            "a\n",
            "r\n",
            "i\n",
            "o\n"
          ],
          "name": "stdout"
        }
      ]
    },
    {
      "cell_type": "markdown",
      "metadata": {
        "id": "EacpbuxtyKw5"
      },
      "source": [
        "este es el for en python\n",
        "# Sección nueva\n",
        "j in raging (int, tope, incremeneto)\n",
        "in<iterados>"
      ]
    },
    {
      "cell_type": "markdown",
      "metadata": {
        "id": "qFKSmgsF1-wX"
      },
      "source": [
        "Markdown\n",
        "\n",
        "```\n",
        "# E`sto tiene formato de código`\n",
        "\n",
        "```\n",
        "**negritas**\n",
        "\n",
        "\n",
        "\n",
        "\n",
        "![fes](https://upload.wikimedia.org/wikipedia/commons/thumb/5/51/Aragon_Jonhy_corel.jpg/240px-Aragon_Jonhy_corel.jpg)\n"
      ]
    },
    {
      "cell_type": "code",
      "metadata": {
        "id": "TEzltidw2CRX"
      },
      "source": [
        ""
      ],
      "execution_count": null,
      "outputs": []
    }
  ]
}