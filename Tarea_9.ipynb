{
  "nbformat": 4,
  "nbformat_minor": 0,
  "metadata": {
    "colab": {
      "name": "Tarea_9.ipynb",
      "provenance": [],
      "authorship_tag": "ABX9TyOBTCuwAfxr9RgmPb4kubAD",
      "include_colab_link": true
    },
    "kernelspec": {
      "name": "python3",
      "display_name": "Python 3"
    }
  },
  "cells": [
    {
      "cell_type": "markdown",
      "metadata": {
        "id": "view-in-github",
        "colab_type": "text"
      },
      "source": [
        "<a href=\"https://colab.research.google.com/github/Mario-eliud-pin/edd_1310_2021/blob/master/Tarea_9.ipynb\" target=\"_parent\"><img src=\"https://colab.research.google.com/assets/colab-badge.svg\" alt=\"Open In Colab\"/></a>"
      ]
    },
    {
      "cell_type": "code",
      "metadata": {
        "id": "Z7IqdTW2tVPK"
      },
      "source": [
        "class Queue:\r\n",
        "    def __init__(self):\r\n",
        "        self.__data = list()\r\n",
        "\r\n",
        "    def is_empty(self):\r\n",
        "        return len(self.__data) == 0\r\n",
        "\r\n",
        "    def length(self):\r\n",
        "        return len(self.__data)\r\n",
        "\r\n",
        "    def enqueue(self , elem):\r\n",
        "        self.__data.append(elem)\r\n",
        "\r\n",
        "    def dequeue( self ):\r\n",
        "        if not self.is_empty():\r\n",
        "            return self.__data.pop(0)\r\n",
        "        else:\r\n",
        "            return None\r\n",
        "\r\n",
        "    def to_string( self ):\r\n",
        "        cadena = \"\"\r\n",
        "        for elem in self.__data:\r\n",
        "            cadena = cadena + \"| \" + str(elem)\r\n",
        "        cadena = cadena + \"|\"\r\n",
        "        return cadena\r\n",
        "\r\n",
        "\r\n",
        "class PriorityQueue:\r\n",
        "    def __init__(self):\r\n",
        "        self.__data = list()\r\n",
        "\r\n",
        "    def is_empty (self):\r\n",
        "        return len(self.__data)==0\r\n",
        "\r\n",
        "    def length(self):\r\n",
        "        return len(self.__data)\r\n",
        "\r\n",
        "    def reorder_queue(self, queue):\r\n",
        "        return sorted(queue, key=lambda v: v[1])\r\n",
        "\r\n",
        "    def enqueue(self, value: str, priority: int) -> None:\r\n",
        "        self.__data.append((value, priority))\r\n",
        "        self.__data = self.reorder_queue(self.__data)\r\n",
        "\r\n",
        "    def dequeue(self):\r\n",
        "        if not self.is_empty():\r\n",
        "            return self.__data.pop(0)\r\n",
        "        else:\r\n",
        "            return None\r\n",
        "\r\n",
        "    def to_string (self):\r\n",
        "        cadena = \"\"\r\n",
        "        for elem in self.__data:\r\n",
        "            cadena = cadena + \"|\" + str(elem)\r\n",
        "        cadena = cadena +\"|\"\r\n",
        "        return cadena"
      ],
      "execution_count": 1,
      "outputs": []
    },
    {
      "cell_type": "code",
      "metadata": {
        "colab": {
          "base_uri": "https://localhost:8080/"
        },
        "id": "MYwb-SEztjOe",
        "outputId": "a8671c1e-bd49-451a-ca2e-a057f77883a9"
      },
      "source": [
        "\r\n",
        "barco = PriorityQueue()\r\n",
        "barco.enqueue(\"Maestre\", 4)\r\n",
        "barco.enqueue(\"Niños\", 2)\r\n",
        "barco.enqueue(\"Mecanico\", 4)\r\n",
        "barco.enqueue(\"Hombres\", 3)\r\n",
        "barco.enqueue(\"Vigia\", 4)\r\n",
        "barco.enqueue(\"capitan\", 5)\r\n",
        "barco.enqueue(\"Timonel\", 4)\r\n",
        "barco.enqueue(\"Mujeres\", 3)\r\n",
        "barco.enqueue(\"3ra edad \", 2)\r\n",
        "barco.enqueue(\"Niñas\", 1)\r\n",
        "\r\n",
        "while not barco.is_empty():\r\n",
        "    barco.to_string()\r\n",
        "    sig = barco.dequeue()\r\n",
        "    print(f\"Los que evacuaran el barco ahora seran los {sig}\")\r\n",
        "barco.to_string()\r\n",
        "print(\"Ya no queda nadie por evacuar\")"
      ],
      "execution_count": 5,
      "outputs": [
        {
          "output_type": "stream",
          "text": [
            "Los que evacuaran el barco ahora seran los ('Niñas', 1)\n",
            "Los que evacuaran el barco ahora seran los ('Niños', 2)\n",
            "Los que evacuaran el barco ahora seran los ('3ra edad ', 2)\n",
            "Los que evacuaran el barco ahora seran los ('Hombres', 3)\n",
            "Los que evacuaran el barco ahora seran los ('Mujeres', 3)\n",
            "Los que evacuaran el barco ahora seran los ('Maestre', 4)\n",
            "Los que evacuaran el barco ahora seran los ('Mecanico', 4)\n",
            "Los que evacuaran el barco ahora seran los ('Vigia', 4)\n",
            "Los que evacuaran el barco ahora seran los ('Timonel', 4)\n",
            "Los que evacuaran el barco ahora seran los ('capitan', 5)\n",
            "Ya no queda nadie por evacuar\n"
          ],
          "name": "stdout"
        }
      ]
    }
  ]
}