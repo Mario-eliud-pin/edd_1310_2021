{
  "nbformat": 4,
  "nbformat_minor": 0,
  "metadata": {
    "colab": {
      "name": "Untitled7.ipynb",
      "provenance": [],
      "authorship_tag": "ABX9TyO2rfWf3aJvzoOhYGMTmcrX",
      "include_colab_link": true
    },
    "kernelspec": {
      "name": "python3",
      "display_name": "Python 3"
    }
  },
  "cells": [
    {
      "cell_type": "markdown",
      "metadata": {
        "id": "view-in-github",
        "colab_type": "text"
      },
      "source": [
        "<a href=\"https://colab.research.google.com/github/Mario-eliud-pin/edd_1310_2021/blob/master/Tarea_Numero_10.ipynb\" target=\"_parent\"><img src=\"https://colab.research.google.com/assets/colab-badge.svg\" alt=\"Open In Colab\"/></a>"
      ]
    },
    {
      "cell_type": "code",
      "metadata": {
        "id": "jvqsff72gEze"
      },
      "source": [
        "class Queue:\r\n",
        "    def __init__(self):\r\n",
        "        self.__data = list()\r\n",
        "\r\n",
        "    def is_empty(self):\r\n",
        "        return len(self.__data) == 0\r\n",
        "\r\n",
        "    def length(self):\r\n",
        "        return len(self.__data)\r\n",
        "\r\n",
        "    def enqueue(self, elem):\r\n",
        "        self.__data.append(elem)\r\n",
        "\r\n",
        "    def dequeue(self):\r\n",
        "        if not self.is_empty():\r\n",
        "            return self.__data.pop(0)\r\n",
        "        else:\r\n",
        "            return None\r\n",
        "\r\n",
        "    def to_string(self):\r\n",
        "        cadena = \"\"\r\n",
        "        for elem in self.__data:\r\n",
        "            cadena = cadena + \"| \" + str(elem)\r\n",
        "        cadena = cadena + \"| \"\r\n",
        "        return cadena\r\n",
        "\r\n",
        "  \r\n",
        "class BoundedPriorityQueue:\r\n",
        "    def __init__(self, niveles):\r\n",
        "        self.__data = [Queue() for x in range(niveles)]\r\n",
        "        self.__size = 0\r\n",
        "\r\n",
        "    def is_empty(self):\r\n",
        "        return self.__size == 0\r\n",
        "\r\n",
        "    def length(self):\r\n",
        "        return self.__size\r\n",
        "\r\n",
        "    def enqueue(self, prioridad, elem):\r\n",
        "        if prioridad < len(self.__data) and prioridad >= 0:\r\n",
        "            self.__data[prioridad].enqueue(elem)\r\n",
        "            self.__size += 1\r\n",
        "\r\n",
        "    def dequeue(self):\r\n",
        "        if self.is_empty():\r\n",
        "            for nivel in self.__data:\r\n",
        "                if not nivel.is_empty():\r\n",
        "                    self.__size -= 1\r\n",
        "                    return nivel.dequeue()\r\n",
        "        else:\r\n",
        "          print(\"ya no hay mas pasajeros\")\r\n",
        "\r\n",
        "    def to_string(self):\r\n",
        "        print(\"Colas:\")\r\n",
        "        for nivel in range(len(self.__data)):\r\n",
        "            print(f\"Nivel {nivel} --> {self.__data[nivel].to_string()}\")"
      ],
      "execution_count": 1,
      "outputs": []
    },
    {
      "cell_type": "code",
      "metadata": {
        "colab": {
          "base_uri": "https://localhost:8080/"
        },
        "id": "tL9lzIo9gLQQ",
        "outputId": "12fe4f3c-9366-4f62-f32a-2d8be5167296"
      },
      "source": [
        "q1 = Queue()\r\n",
        "q1.enqueue(3)\r\n",
        "q1.enqueue(33)\r\n",
        "q1.enqueue(23)\r\n",
        "print(q1.to_string())\r\n",
        "\r\n",
        "print(\"Prueba 2 de Queue\")\r\n",
        "c1={\"id\": 1 , \"nombre\" : \"Mario\" , \"balance\" : 20.5}\r\n",
        "c2={\"id\": 2 , \"nombre\" : \"Diana\" , \"balance\" : 3456.5}\r\n",
        "c3={\"id\": 3 , \"nombre\" : \"Bartolo\" , \"balance\" : 1000000.0}\r\n",
        "\r\n",
        "atencion = Queue()\r\n",
        "atencion.enqueue(c1)\r\n",
        "atencion.enqueue(c2)\r\n",
        "atencion.enqueue(c3)\r\n",
        "print(atencion.to_string())\r\n",
        "siguiente = atencion.dequeue()\r\n",
        "print(f\"Bienvenido Sr. {siguiente['nombre']}, en que podemos servirle el dia de hoy\")\r\n",
        "print(atencion.to_string())\r\n",
        "\r\n",
        "print(\"Pruebas de las colas con prioridad acotada\")\r\n",
        "\r\n",
        "maestres = {\"prioridad\":4, \"descripcion\":\"Maestre\", \"Personas\":[\"Juan P\",\"Diego H\"]}\r\n",
        "niños = {\"prioridad\":2, \"descripcion\":\"Niños\", \"Personas\":[\"Santi H\",\"Angel H\"]}\r\n",
        "mecanicos = {\"prioridad\":4, \"descripcion\":\"Mecanicos\", \"Personas\":[\"Diana T\",\"Maria Z\"]}\r\n",
        "\r\n",
        "mujeres={\"prioridad\":3, \"descripcion\":\"Mujeres\", \"Personas\":[\"Diana T\",\"Maria Z\"]}\r\n",
        "tercera_edad={\"prioridad\":2, \"descripcion\":\"Personas adultas de la tercera edad\", \"Personas\":[\"Elias\",\"Josefina\"]}\r\n",
        "niñas={\"prioridad\":1, \"descripcion\":\"Niñas\", \"Personas\":[\"Fernanda\",\"Natalia\"]}\r\n",
        "\r\n",
        "hombres={\"prioridad\":3, \"descripcion\":\"Hombres\", \"Personas\":[\"Ignacio \",\"Alonso\"]}\r\n",
        "vigia={\"prioridad\":4, \"descripcion\":\"\", \"Vigilantes del barco\":[\"Simon\",\"barba rosa\"]}\r\n",
        "capitan={\"prioridad\":5, \"descripcion\":\"Capitan\", \"Personas\":[\"Jack S\"]}\r\n",
        "\r\n",
        "timonel={\"prioridad\":4, \"descripcion\":\"Dirige el barco\", \"Personas\":[\"Elizabeth\"]}\r\n",
        "\r\n",
        "cpa = BoundedPriorityQueue(7)\r\n",
        "cpa.enqueue(maestres['prioridad'], maestres)\r\n",
        "cpa.enqueue(niños['prioridad'], niños)\r\n",
        "cpa.enqueue(mujeres['prioridad'], mujeres)\r\n",
        "cpa.enqueue(tercera_edad['prioridad'], tercera_edad)\r\n",
        "cpa.enqueue(niñas['prioridad'], niñas)\r\n",
        "cpa.enqueue(hombres['prioridad'], hombres)\r\n",
        "cpa.enqueue(vigia['prioridad'], vigia)\r\n",
        "cpa.enqueue(capitan['prioridad'], capitan)\r\n",
        "cpa.to_string()\r\n",
        "sig = cpa.dequeue()\r\n",
        "print(sig)"
      ],
      "execution_count": 2,
      "outputs": [
        {
          "output_type": "stream",
          "text": [
            "| 3| 33| 23| \n",
            "Prueba 2 de Queue\n",
            "| {'id': 1, 'nombre': 'Mario', 'balance': 20.5}| {'id': 2, 'nombre': 'Diana', 'balance': 3456.5}| {'id': 3, 'nombre': 'Bartolo', 'balance': 1000000.0}| \n",
            "Bienvenido Sr. Mario, en que podemos servirle el dia de hoy\n",
            "| {'id': 2, 'nombre': 'Diana', 'balance': 3456.5}| {'id': 3, 'nombre': 'Bartolo', 'balance': 1000000.0}| \n",
            "Pruebas de las colas con prioridad acotada\n",
            "Colas:\n",
            "Nivel 0 --> | \n",
            "Nivel 1 --> | {'prioridad': 1, 'descripcion': 'Niñas', 'Personas': ['Fernanda', 'Natalia']}| \n",
            "Nivel 2 --> | {'prioridad': 2, 'descripcion': 'Niños', 'Personas': ['Santi H', 'Angel H']}| {'prioridad': 2, 'descripcion': 'Personas adultas de la tercera edad', 'Personas': ['Elias', 'Josefina']}| \n",
            "Nivel 3 --> | {'prioridad': 3, 'descripcion': 'Mujeres', 'Personas': ['Diana T', 'Maria Z']}| {'prioridad': 3, 'descripcion': 'Hombres', 'Personas': ['Ignacio ', 'Alonso']}| \n",
            "Nivel 4 --> | {'prioridad': 4, 'descripcion': 'Maestre', 'Personas': ['Juan P', 'Diego H']}| {'prioridad': 4, 'descripcion': '', 'Vigilantes del barco': ['Simon', 'barba rosa']}| \n",
            "Nivel 5 --> | {'prioridad': 5, 'descripcion': 'Capitan', 'Personas': ['Jack S']}| \n",
            "Nivel 6 --> | \n",
            "ya no hay mas pasajeros\n",
            "None\n"
          ],
          "name": "stdout"
        }
      ]
    }
  ]
}