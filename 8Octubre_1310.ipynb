{
  "nbformat": 4,
  "nbformat_minor": 0,
  "metadata": {
    "colab": {
      "name": "8Octubre_1310.ipynb",
      "provenance": [],
      "authorship_tag": "ABX9TyMKHSzWRNrpG2uJUoIeQ7bY",
      "include_colab_link": true
    },
    "kernelspec": {
      "name": "python3",
      "display_name": "Python 3"
    }
  },
  "cells": [
    {
      "cell_type": "markdown",
      "metadata": {
        "id": "view-in-github",
        "colab_type": "text"
      },
      "source": [
        "<a href=\"https://colab.research.google.com/github/Mario-eliud-pin/edd_1310_2021/blob/master/8Octubre_1310.ipynb\" target=\"_parent\"><img src=\"https://colab.research.google.com/assets/colab-badge.svg\" alt=\"Open In Colab\"/></a>"
      ]
    },
    {
      "cell_type": "code",
      "metadata": {
        "id": "IAS1VxjG-BNm",
        "outputId": "a716d405-d8b8-4324-ed44-17326676e345",
        "colab": {
          "base_uri": "https://localhost:8080/",
          "height": 139
        }
      },
      "source": [
        "monitores =[[\"Samsung\",\"17.3 \\\"\",1024],[\"BenQ\",\"40\\\"\",2048]]\n",
        "procesadores = [[\"Intel\",\"i7\",3.4],[\"AMD\",\"razzer\",3.3],[\"Intel\",\"i3\",3.1]]\n",
        "memorias = [[\"Kingston\", \"8GB\",\"DDR4\"],[\"Kingston\", \"16GB\",\"DDR3\"],[\"ADATA\", \"32GB\",\"DDR4\"]]\n",
        "\n",
        "componentes = [monitores,procesadores,memorias]\n",
        "print(componentes)\n",
        "print(componentes[1])\n",
        "print(componentes[2][1][1])\n",
        "print(componentes[0][1][2]*2)\n",
        "print(componentes[1][1][1][1:4:])\n",
        "print(componentes[2][2][0].lower())\n",
        "#insertar \n"
      ],
      "execution_count": 15,
      "outputs": [
        {
          "output_type": "stream",
          "text": [
            "[[['Samsung', '17.3 \"', 1024], ['BenQ', '40\"', 2048]], [['Intel', 'i7', 3.4], ['AMD', 'razzer', 3.3], ['Intel', 'i3', 3.1]], [['Kingston', '8GB', 'DDR4'], ['Kingston', '16GB', 'DDR3'], ['ADATA', '32GB', 'DDR4']]]\n",
            "[['Intel', 'i7', 3.4], ['AMD', 'razzer', 3.3], ['Intel', 'i3', 3.1]]\n",
            "16GB\n",
            "4096\n",
            "azz\n",
            "adata\n"
          ],
          "name": "stdout"
        }
      ]
    },
    {
      "cell_type": "markdown",
      "metadata": {
        "id": "glswqNTXIpCN"
      },
      "source": [
        "insertar listas \n"
      ]
    },
    {
      "cell_type": "code",
      "metadata": {
        "id": "SF0n8Mt1ItSK",
        "outputId": "9d837d9a-77da-43a7-aa79-10683c50bf31",
        "colab": {
          "base_uri": "https://localhost:8080/",
          "height": 34
        }
      },
      "source": [
        "frutas =[\"manzana\",\"pera\"]\n",
        "otras_frutas = [\"aguacate\",\"sandia\"]\n",
        "\n",
        "# + sobre la lista a agregar \n",
        "#frutas=frutas+otras_frutas# esta es la forma correcta \n",
        "#print(frutas) \n",
        "# funcion extend\n",
        "\n",
        "frutas.extend(otras_frutas)\n",
        "print(frutas)\n",
        "\n"
      ],
      "execution_count": 21,
      "outputs": [
        {
          "output_type": "stream",
          "text": [
            "['manzana', 'pera', 'aguacate', 'sandia']\n"
          ],
          "name": "stdout"
        }
      ]
    },
    {
      "cell_type": "markdown",
      "metadata": {
        "id": "ap4iIlZyLB_T"
      },
      "source": [
        "copiar listas"
      ]
    },
    {
      "cell_type": "code",
      "metadata": {
        "id": "uBJfqOhZLE5o",
        "outputId": "bed80c45-6f74-4520-8276-312d4ad149e9",
        "colab": {
          "base_uri": "https://localhost:8080/",
          "height": 85
        }
      },
      "source": [
        "colores=[\"azul\",\"rojo\", \"verde \", \"violeta\"]\n",
        "otros_colores=colores\n",
        "otros_colores.append(\"rosa\")\n",
        "print(colores)\n",
        "print(otros_colores) \n",
        "una_mas=colores.copy()\n",
        "print(una_mas)\n",
        "una_mas.append([\"gris\", \"morado\"])\n",
        "print(una_mas)"
      ],
      "execution_count": 29,
      "outputs": [
        {
          "output_type": "stream",
          "text": [
            "['azul', 'rojo', 'verde ', 'violeta', 'rosa']\n",
            "['azul', 'rojo', 'verde ', 'violeta', 'rosa']\n",
            "['azul', 'rojo', 'verde ', 'violeta', 'rosa']\n",
            "['azul', 'rojo', 'verde ', 'violeta', 'rosa', ['gris', 'morado']]\n"
          ],
          "name": "stdout"
        }
      ]
    },
    {
      "cell_type": "markdown",
      "metadata": {
        "id": "71riaUqUO2I7"
      },
      "source": [
        "#unpaking de listas"
      ]
    },
    {
      "cell_type": "code",
      "metadata": {
        "id": "CyadWRPxO4jx",
        "outputId": "d665cc10-c755-4560-9fa1-bd38c63952ae",
        "colab": {
          "base_uri": "https://localhost:8080/",
          "height": 34
        }
      },
      "source": [
        "alumno=[\"Mario\",\"Rulo\",\"Pineda\",20,\"ICO\",10.0]\n",
        "#nombre=alumno[0]\n",
        "nombre,paterno,materno,edad,carrera,promedio=alumno\n",
        "#misma cantidad de valores a la izquierda que valores en la lista\n",
        "print(f\"alumno: {nombre},carrera: {carrera},promedio: {promedio}\")\n"
      ],
      "execution_count": 32,
      "outputs": [
        {
          "output_type": "stream",
          "text": [
            "alumno: Mario,carrera: ICO,promedio: 10.0\n"
          ],
          "name": "stdout"
        }
      ]
    },
    {
      "cell_type": "markdown",
      "metadata": {
        "id": "_WS_T0ByR2mz"
      },
      "source": [
        "tuplas\n",
        "-no son mutables\n",
        "selector con -> []\n",
        "se declaran con -> ()\n"
      ]
    },
    {
      "cell_type": "code",
      "metadata": {
        "id": "ElmDNv4nSQ92",
        "outputId": "4b6fb887-9f4e-4d2a-fd5c-7dbd6c43a406",
        "colab": {
          "base_uri": "https://localhost:8080/",
          "height": 34
        }
      },
      "source": [
        "# las tuplas son listas pero de valores constantes \n",
        "precios=(99.9,  49.9,   12.45,  23.3, 55.66)\n",
        "print(precios)\n",
        "print(precios[1])\n",
        "#slicing\n",
        "print(precios[2:])"
      ],
      "execution_count": 33,
      "outputs": [
        {
          "output_type": "stream",
          "text": [
            "49.9\n"
          ],
          "name": "stdout"
        }
      ]
    },
    {
      "cell_type": "markdown",
      "metadata": {
        "id": "FfaWOySZTmqb"
      },
      "source": [
        "diccionarios\n",
        "se dacaran con ->{  }\n",
        "si son mutables \n",
        "conjuntos de pares de llaves : valor\n",
        "eqivalente a os objtos json de java Script "
      ]
    },
    {
      "cell_type": "code",
      "metadata": {
        "id": "ZTX1W7UnT9tz",
        "outputId": "8160cb8b-e851-43e1-b5b4-bbea5bde44c6",
        "colab": {
          "base_uri": "https://localhost:8080/",
          "height": 51
        }
      },
      "source": [
        "cliente={}# así se declara un objeto json \n",
        "alumo_1={  \"No. cuenta    \"  : 3162403  }\n",
        "print(alumno)\n",
        "alumno_1={\"No. cuenta\": 3162403, \n",
        "          \"carrera\": \"ICO\",\n",
        "          \"promedio\": 9.8,\n",
        "          \"materias\": [\"EDD\", \"CyP\", \"Calidad\", \"emprendimeinto\"],\n",
        "          \"direccion\": }\n",
        "print(alumno_1)"
      ],
      "execution_count": 35,
      "outputs": [
        {
          "output_type": "stream",
          "text": [
            "['Mario', 'Rulo', 'Pineda', 20, 'ICO', 10.0]\n",
            "{'No. cuenta': 3162403, 'carrera': 'ICO'}\n"
          ],
          "name": "stdout"
        }
      ]
    },
    {
      "cell_type": "code",
      "metadata": {
        "id": "XMAFF5rvW2Qt",
        "outputId": "452d8645-d4eb-428e-dca6-190327673535",
        "colab": {
          "base_uri": "https://localhost:8080/",
          "height": 105
        }
      },
      "source": [
        "alumno = { \n",
        "          \"num_cta\" : 303030303 ,\n",
        "          \"carrera\" : \"ICO\",\n",
        "          \"promedio\" : 9.8,\n",
        "          \"materias\" :[\"EDD\",\"CyP\",\"Calidad\",\"Emprendimiento\"],\n",
        "          \"direccion\" : { \n",
        "                            \"calle\":\"rancho seco\",\n",
        "                            \"numero\" : 23 ,\n",
        "                            \"delegacion\" : \"Neza\",\n",
        "                            \"estado\" : {\n",
        "                                        \"id\" : 15 ,\n",
        "                                        \"nombre\" : \"Estado de Máxico\" ,\n",
        "                                        \"nombre_corto\" : \"EdoMex\"\n",
        "                                        } ,\n",
        "                            \"CP\":57170\n",
        "\n",
        "                        } \n",
        "          }\n",
        "print(alumno)\n",
        "print(alumno[\"materias\"])\n",
        "print(alumno[\"promedio\"])\n",
        "print(alumno[\"direccion\"][\"estado\"][\"id\"])"
      ],
      "execution_count": 41,
      "outputs": [
        {
          "output_type": "stream",
          "text": [
            "{'num_cta': 303030303, 'carrera': 'ICO', 'promedio': 9.8, 'materias': ['EDD', 'CyP', 'Calidad', 'Emprendimiento'], 'direccion': {'calle': 'rancho seco', 'numero': 23, 'delegacion': 'Neza', 'estado': {'id': 15, 'nombre': 'Estado de Máxico', 'nombre_corto': 'EdoMex'}, 'CP': 57170}}\n",
            "['EDD', 'CyP', 'Calidad', 'Emprendimiento']\n",
            "9.8\n",
            "15\n"
          ],
          "name": "stdout"
        }
      ]
    }
  ]
}